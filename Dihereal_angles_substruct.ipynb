{
 "cells": [
  {
   "cell_type": "markdown",
   "metadata": {},
   "source": [
    "# Find dihedral angles between atoms with sdf files and RDKit"
   ]
  },
  {
   "cell_type": "code",
   "execution_count": 598,
   "metadata": {},
   "outputs": [],
   "source": [
    "import pandas as pd\n",
    "import numpy as np\n",
    "import seaborn as sns\n",
    "import datamol as dm\n",
    "import rdkit.Chem as Chem"
   ]
  },
  {
   "cell_type": "code",
   "execution_count": 599,
   "metadata": {},
   "outputs": [
    {
     "name": "stdout",
     "output_type": "stream",
     "text": [
      "cwd=c:\\Users\\jaina\\Box\\RDKit_Utility_Functions\n"
     ]
    }
   ],
   "source": [
    "import os\n",
    "cwd=os.getcwd()\n",
    "print(f'cwd={cwd}')"
   ]
  },
  {
   "cell_type": "markdown",
   "metadata": {},
   "source": [
    "## Dihedral angle from the mol "
   ]
  },
  {
   "cell_type": "code",
   "execution_count": 600,
   "metadata": {},
   "outputs": [
    {
     "data": {
      "image/png": "[encoded data removed]",
      "text/plain": [
       "<rdkit.Chem.rdchem.Mol at 0x1c045ead2b0>"
      ]
     },
     "execution_count": 600,
     "metadata": {},
     "output_type": "execute_result"
    }
   ],
   "source": [
    "mol=Chem.MolFromSmiles('c1ccc2nsnc2c1')\n",
    "mol"
   ]
  },
  {
   "cell_type": "markdown",
   "metadata": {},
   "source": [
    "# Label every atom"
   ]
  },
  {
   "cell_type": "code",
   "execution_count": 601,
   "metadata": {},
   "outputs": [
    {
     "data": {
      "image/png": "[encoded data removed]",
      "text/plain": [
       "<rdkit.Chem.rdchem.Mol at 0x1c045ead2b0>"
      ]
     },
     "execution_count": 601,
     "metadata": {},
     "output_type": "execute_result"
    }
   ],
   "source": [
    "# Iterate over the atoms\n",
    "for atom in mol.GetAtoms():\n",
    "    # For each atom, set the property \"atomNote\" to a index+1 of the atom\n",
    "    atom.SetProp(\"atomNote\", str(atom.GetIdx()+1))\n",
    "\n",
    "mol"
   ]
  },
  {
   "cell_type": "code",
   "execution_count": 602,
   "metadata": {},
   "outputs": [
    {
     "data": {
      "image/svg+xml": "<svg baseProfile=\"full\" height=\"300px\" version=\"1.1\" viewBox=\"0 0 300 300\" width=\"300px\" xml:space=\"preserve\" xmlns=\"http://www.w3.org/2000/svg\" xmlns:rdkit=\"http://www.rdkit.org/xml\" xmlns:xlink=\"http://www.w3.org/1999/xlink\">\n<!-- END OF HEADER -->\n<rect height=\"300.0\" style=\"opacity:1.0;fill:#FFFFFF;stroke:none\" width=\"300.0\" x=\"0.0\" y=\"0.0\"> </rect>\n<path class=\"bond-0 atom-0 atom-1\" d=\"M 27.3,185.4 L 27.3,114.5\" style=\"fill:none;fill-rule:evenodd;stroke:#000000;stroke-width:2.0px;stroke-linecap:butt;stroke-linejoin:miter;stroke-opacity:1\"/>\n<path class=\"bond-1 atom-1 atom-2\" d=\"M 27.3,114.5 L 88.7,79.0\" style=\"fill:none;fill-rule:evenodd;stroke:#000000;stroke-width:2.0px;stroke-linecap:butt;stroke-linejoin:miter;stroke-opacity:1\"/>\n<path class=\"bond-1 atom-1 atom-2\" d=\"M 43.6,121.4 L 86.6,96.6\" style=\"fill:none;fill-rule:evenodd;stroke:#000000;stroke-width:2.0px;stroke-linecap:butt;stroke-linejoin:miter;stroke-opacity:1\"/>\n<path class=\"bond-2 atom-2 atom-3\" d=\"M 88.7,79.0 L 150.1,114.5\" style=\"fill:none;fill-rule:evenodd;stroke:#000000;stroke-width:2.0px;stroke-linecap:butt;stroke-linejoin:miter;stroke-opacity:1\"/>\n<path class=\"bond-3 atom-3 atom-4\" d=\"M 150.1,114.5 L 178.8,105.1\" style=\"fill:none;fill-rule:evenodd;stroke:#000000;stroke-width:2.0px;stroke-linecap:butt;stroke-linejoin:miter;stroke-opacity:1\"/>\n<path class=\"bond-3 atom-3 atom-4\" d=\"M 178.8,105.1 L 207.6,95.8\" style=\"fill:none;fill-rule:evenodd;stroke:#0000FF;stroke-width:2.0px;stroke-linecap:butt;stroke-linejoin:miter;stroke-opacity:1\"/>\n<path class=\"bond-3 atom-3 atom-4\" d=\"M 163.1,125.2 L 183.2,118.6\" style=\"fill:none;fill-rule:evenodd;stroke:#000000;stroke-width:2.0px;stroke-linecap:butt;stroke-linejoin:miter;stroke-opacity:1\"/>\n<path class=\"bond-3 atom-3 atom-4\" d=\"M 183.2,118.6 L 203.4,112.1\" style=\"fill:none;fill-rule:evenodd;stroke:#0000FF;stroke-width:2.0px;stroke-linecap:butt;stroke-linejoin:miter;stroke-opacity:1\"/>\n<path class=\"bond-4 atom-4 atom-5\" d=\"M 226.5,104.9 L 238.5,121.4\" style=\"fill:none;fill-rule:evenodd;stroke:#0000FF;stroke-width:2.0px;stroke-linecap:butt;stroke-linejoin:miter;stroke-opacity:1\"/>\n<path class=\"bond-4 atom-4 atom-5\" d=\"M 238.5,121.4 L 250.5,137.9\" style=\"fill:none;fill-rule:evenodd;stroke:#CCCC00;stroke-width:2.0px;stroke-linecap:butt;stroke-linejoin:miter;stroke-opacity:1\"/>\n<path class=\"bond-5 atom-5 atom-6\" d=\"M 250.5,162.0 L 238.5,178.5\" style=\"fill:none;fill-rule:evenodd;stroke:#CCCC00;stroke-width:2.0px;stroke-linecap:butt;stroke-linejoin:miter;stroke-opacity:1\"/>\n<path class=\"bond-5 atom-5 atom-6\" d=\"M 238.5,178.5 L 226.5,194.9\" style=\"fill:none;fill-rule:evenodd;stroke:#0000FF;stroke-width:2.0px;stroke-linecap:butt;stroke-linejoin:miter;stroke-opacity:1\"/>\n<path class=\"bond-6 atom-6 atom-7\" d=\"M 207.6,204.1 L 178.8,194.7\" style=\"fill:none;fill-rule:evenodd;stroke:#0000FF;stroke-width:2.0px;stroke-linecap:butt;stroke-linejoin:miter;stroke-opacity:1\"/>\n<path class=\"bond-6 atom-6 atom-7\" d=\"M 178.8,194.7 L 150.1,185.4\" style=\"fill:none;fill-rule:evenodd;stroke:#000000;stroke-width:2.0px;stroke-linecap:butt;stroke-linejoin:miter;stroke-opacity:1\"/>\n<path class=\"bond-6 atom-6 atom-7\" d=\"M 203.4,187.8 L 183.2,181.3\" style=\"fill:none;fill-rule:evenodd;stroke:#0000FF;stroke-width:2.0px;stroke-linecap:butt;stroke-linejoin:miter;stroke-opacity:1\"/>\n<path class=\"bond-6 atom-6 atom-7\" d=\"M 183.2,181.3 L 163.1,174.7\" style=\"fill:none;fill-rule:evenodd;stroke:#000000;stroke-width:2.0px;stroke-linecap:butt;stroke-linejoin:miter;stroke-opacity:1\"/>\n<path class=\"bond-7 atom-7 atom-8\" d=\"M 150.1,185.4 L 88.7,220.9\" style=\"fill:none;fill-rule:evenodd;stroke:#000000;stroke-width:2.0px;stroke-linecap:butt;stroke-linejoin:miter;stroke-opacity:1\"/>\n<path class=\"bond-8 atom-8 atom-0\" d=\"M 88.7,220.9 L 27.3,185.4\" style=\"fill:none;fill-rule:evenodd;stroke:#000000;stroke-width:2.0px;stroke-linecap:butt;stroke-linejoin:miter;stroke-opacity:1\"/>\n<path class=\"bond-8 atom-8 atom-0\" d=\"M 86.6,203.3 L 43.6,178.4\" style=\"fill:none;fill-rule:evenodd;stroke:#000000;stroke-width:2.0px;stroke-linecap:butt;stroke-linejoin:miter;stroke-opacity:1\"/>\n<path class=\"bond-9 atom-7 atom-3\" d=\"M 150.1,185.4 L 150.1,114.5\" style=\"fill:none;fill-rule:evenodd;stroke:#000000;stroke-width:2.0px;stroke-linecap:butt;stroke-linejoin:miter;stroke-opacity:1\"/>\n<path class=\"atom-4\" d=\"M 213.1 82.5 L 219.7 93.2 Q 220.3 94.2, 221.4 96.1 Q 222.4 98.0, 222.5 98.1 L 222.5 82.5 L 225.2 82.5 L 225.2 102.6 L 222.4 102.6 L 215.4 91.0 Q 214.5 89.6, 213.7 88.1 Q 212.8 86.5, 212.5 86.0 L 212.5 102.6 L 209.9 102.6 L 209.9 82.5 L 213.1 82.5 \" fill=\"#0000FF\"/>\n<path class=\"atom-5\" d=\"M 253.6 156.8 Q 253.8 156.9, 254.7 157.3 Q 255.7 157.7, 256.7 158.0 Q 257.7 158.2, 258.8 158.2 Q 260.7 158.2, 261.8 157.3 Q 262.9 156.4, 262.9 154.7 Q 262.9 153.6, 262.3 153.0 Q 261.8 152.3, 260.9 151.9 Q 260.1 151.5, 258.6 151.1 Q 256.9 150.6, 255.8 150.1 Q 254.7 149.5, 254.0 148.5 Q 253.2 147.4, 253.2 145.6 Q 253.2 143.0, 254.9 141.5 Q 256.7 139.9, 260.1 139.9 Q 262.4 139.9, 265.0 141.0 L 264.4 143.2 Q 262.0 142.2, 260.1 142.2 Q 258.2 142.2, 257.1 143.0 Q 256.0 143.8, 256.1 145.2 Q 256.1 146.3, 256.6 147.0 Q 257.2 147.6, 258.0 148.0 Q 258.8 148.4, 260.1 148.8 Q 262.0 149.3, 263.0 149.9 Q 264.1 150.5, 264.9 151.6 Q 265.7 152.8, 265.7 154.7 Q 265.7 157.5, 263.8 159.0 Q 262.0 160.5, 258.9 160.5 Q 257.1 160.5, 255.7 160.1 Q 254.4 159.7, 252.8 159.1 L 253.6 156.8 \" fill=\"#CCCC00\"/>\n<path class=\"atom-6\" d=\"M 213.1 197.3 L 219.7 207.9 Q 220.3 209.0, 221.4 210.9 Q 222.4 212.8, 222.5 212.9 L 222.5 197.3 L 225.2 197.3 L 225.2 217.4 L 222.4 217.4 L 215.4 205.7 Q 214.5 204.4, 213.7 202.8 Q 212.8 201.3, 212.5 200.8 L 212.5 217.4 L 209.9 217.4 L 209.9 197.3 L 213.1 197.3 \" fill=\"#0000FF\"/>\n<path class=\"note\" d=\"M 14.5 195.2 L 16.7 195.2 L 16.7 187.7 L 14.3 188.5 L 14.0 187.6 L 17.1 186.3 L 18.1 186.4 L 18.1 195.2 L 20.0 195.2 L 20.0 196.4 L 14.5 196.4 L 14.5 195.2 \" fill=\"#000000\"/>\n<path class=\"note\" d=\"M 13.7 105.5 Q 14.0 104.6, 14.9 104.0 Q 15.8 103.5, 17.0 103.5 Q 18.5 103.5, 19.4 104.3 Q 20.2 105.1, 20.2 106.6 Q 20.2 108.1, 19.1 109.5 Q 18.0 110.9, 15.8 112.5 L 20.4 112.5 L 20.4 113.6 L 13.6 113.6 L 13.6 112.7 Q 15.5 111.4, 16.6 110.4 Q 17.7 109.4, 18.3 108.5 Q 18.8 107.6, 18.8 106.7 Q 18.8 105.7, 18.3 105.2 Q 17.8 104.6, 17.0 104.6 Q 16.2 104.6, 15.7 105.0 Q 15.1 105.3, 14.7 106.0 L 13.7 105.5 \" fill=\"#000000\"/>\n<path class=\"note\" d=\"M 90.1 67.0 Q 91.1 67.3, 91.6 67.9 Q 92.1 68.5, 92.1 69.5 Q 92.1 70.4, 91.6 71.0 Q 91.2 71.7, 90.4 72.1 Q 89.6 72.4, 88.6 72.4 Q 87.5 72.4, 86.7 72.1 Q 85.9 71.7, 85.3 70.9 L 86.1 70.1 Q 86.7 70.8, 87.3 71.0 Q 87.8 71.3, 88.6 71.3 Q 89.5 71.3, 90.1 70.8 Q 90.6 70.3, 90.6 69.5 Q 90.6 68.5, 90.1 68.0 Q 89.5 67.6, 88.3 67.6 L 87.5 67.6 L 87.5 66.5 L 88.2 66.5 Q 89.3 66.5, 89.8 66.1 Q 90.4 65.6, 90.4 64.7 Q 90.4 64.0, 89.9 63.7 Q 89.5 63.3, 88.6 63.3 Q 87.8 63.3, 87.3 63.6 Q 86.8 63.9, 86.4 64.6 L 85.4 64.1 Q 85.7 63.2, 86.6 62.7 Q 87.4 62.1, 88.6 62.1 Q 90.1 62.1, 91.0 62.8 Q 91.8 63.5, 91.8 64.7 Q 91.8 65.5, 91.4 66.1 Q 91.0 66.7, 90.1 67.0 \" fill=\"#000000\"/>\n<path class=\"note\" d=\"M 154.0 104.3 L 155.2 104.3 L 155.2 105.4 L 154.0 105.4 L 154.0 107.7 L 152.7 107.7 L 152.7 105.4 L 147.5 105.4 L 147.5 104.5 L 151.9 97.7 L 154.0 97.7 L 154.0 104.3 M 149.1 104.3 L 152.7 104.3 L 152.7 98.6 L 149.1 104.3 \" fill=\"#000000\"/>\n<path class=\"note\" d=\"M 225.1 68.8 Q 226.0 68.8, 226.7 69.2 Q 227.4 69.6, 227.8 70.3 Q 228.3 71.0, 228.3 71.9 Q 228.3 73.0, 227.7 73.7 Q 227.2 74.4, 226.4 74.8 Q 225.6 75.2, 224.7 75.2 Q 223.7 75.2, 222.9 74.9 Q 222.0 74.5, 221.5 73.9 L 222.3 73.0 Q 222.8 73.5, 223.4 73.8 Q 224.1 74.1, 224.7 74.1 Q 225.6 74.1, 226.2 73.5 Q 226.8 73.0, 226.8 72.0 Q 226.8 70.9, 226.2 70.4 Q 225.6 69.9, 224.6 69.9 Q 223.7 69.9, 222.8 70.3 L 222.0 69.9 L 222.5 65.1 L 227.6 65.1 L 227.5 66.2 L 223.6 66.2 L 223.3 69.2 Q 224.2 68.8, 225.1 68.8 \" fill=\"#000000\"/>\n<path class=\"note\" d=\"M 283.3 148.8 Q 284.2 148.8, 284.9 149.1 Q 285.6 149.5, 286.0 150.2 Q 286.4 150.9, 286.4 151.8 Q 286.4 152.8, 285.9 153.5 Q 285.5 154.3, 284.7 154.7 Q 284.0 155.1, 283.0 155.1 Q 281.2 155.1, 280.3 153.9 Q 279.4 152.7, 279.4 150.3 Q 279.4 147.6, 280.5 146.3 Q 281.6 144.9, 283.8 144.9 Q 284.4 144.9, 284.9 145.0 Q 285.5 145.1, 286.0 145.4 L 285.4 146.4 Q 284.7 146.0, 283.8 146.0 Q 282.4 146.0, 281.6 146.9 Q 280.9 147.8, 280.8 149.7 Q 281.3 149.2, 282.0 149.0 Q 282.6 148.8, 283.3 148.8 M 283.0 154.0 Q 283.5 154.0, 284.0 153.7 Q 284.4 153.4, 284.7 152.9 Q 284.9 152.4, 284.9 151.8 Q 284.9 150.9, 284.4 150.4 Q 284.0 149.9, 283.1 149.9 Q 282.5 149.9, 281.9 150.1 Q 281.3 150.4, 280.8 150.8 Q 280.9 152.5, 281.4 153.2 Q 281.9 154.0, 283.0 154.0 \" fill=\"#000000\"/>\n<path class=\"note\" d=\"M 226.8 225.9 L 221.5 225.9 L 221.5 224.8 L 228.2 224.8 L 228.2 225.8 L 224.1 234.8 L 222.8 234.8 L 226.8 225.9 \" fill=\"#000000\"/>\n<path class=\"note\" d=\"M 152.9 196.9 Q 153.8 197.3, 154.4 197.9 Q 154.9 198.5, 154.9 199.5 Q 154.9 200.3, 154.4 201.0 Q 154.0 201.7, 153.2 202.0 Q 152.4 202.4, 151.4 202.4 Q 149.7 202.4, 148.8 201.6 Q 147.8 200.8, 147.8 199.5 Q 147.8 198.7, 148.2 198.1 Q 148.6 197.4, 149.5 197.0 Q 148.9 196.6, 148.5 196.1 Q 148.2 195.5, 148.2 194.7 Q 148.2 193.5, 149.0 192.8 Q 149.9 192.1, 151.3 192.1 Q 152.8 192.1, 153.6 192.8 Q 154.5 193.5, 154.5 194.7 Q 154.5 195.4, 154.1 195.9 Q 153.7 196.5, 152.9 196.9 M 151.3 193.1 Q 150.5 193.1, 150.0 193.5 Q 149.6 193.9, 149.6 194.7 Q 149.6 195.2, 149.9 195.5 Q 150.2 195.9, 150.6 196.1 Q 151.1 196.3, 152.0 196.6 Q 152.6 196.1, 152.8 195.7 Q 153.1 195.2, 153.1 194.7 Q 153.1 193.9, 152.6 193.5 Q 152.2 193.1, 151.3 193.1 M 151.4 201.3 Q 152.3 201.3, 152.9 200.8 Q 153.5 200.3, 153.5 199.5 Q 153.5 198.9, 153.2 198.6 Q 152.9 198.3, 152.4 198.1 Q 152.0 197.9, 151.2 197.6 L 150.5 197.4 Q 149.8 197.8, 149.5 198.3 Q 149.2 198.8, 149.2 199.5 Q 149.2 200.3, 149.8 200.8 Q 150.4 201.3, 151.4 201.3 \" fill=\"#000000\"/>\n<path class=\"note\" d=\"M 88.6 227.6 Q 90.4 227.6, 91.3 228.8 Q 92.2 230.0, 92.2 232.4 Q 92.2 235.1, 91.0 236.5 Q 89.9 237.9, 87.8 237.9 Q 87.2 237.9, 86.6 237.7 Q 86.1 237.6, 85.6 237.3 L 86.1 236.3 Q 86.9 236.7, 87.8 236.7 Q 89.2 236.7, 89.9 235.8 Q 90.6 234.9, 90.7 233.0 Q 90.2 233.5, 89.6 233.8 Q 88.9 234.0, 88.2 234.0 Q 87.4 234.0, 86.7 233.6 Q 86.0 233.2, 85.6 232.5 Q 85.2 231.8, 85.2 231.0 Q 85.2 230.0, 85.6 229.2 Q 86.1 228.5, 86.8 228.0 Q 87.6 227.6, 88.6 227.6 M 86.6 230.9 Q 86.6 231.8, 87.1 232.3 Q 87.6 232.9, 88.5 232.9 Q 89.1 232.9, 89.7 232.6 Q 90.3 232.4, 90.7 231.9 Q 90.7 230.3, 90.1 229.5 Q 89.6 228.8, 88.6 228.8 Q 88.0 228.8, 87.6 229.1 Q 87.1 229.3, 86.9 229.8 Q 86.6 230.3, 86.6 230.9 \" fill=\"#000000\"/>\n</svg>",
      "text/plain": [
       "<IPython.core.display.SVG object>"
      ]
     },
     "execution_count": 602,
     "metadata": {},
     "output_type": "execute_result"
    }
   ],
   "source": [
    "dm.to_image(mols=mol)"
   ]
  },
  {
   "cell_type": "markdown",
   "metadata": {},
   "source": [
    "## Find dihedral angles between (3,4,8,9) and (5,4,8,7)"
   ]
  },
  {
   "cell_type": "code",
   "execution_count": 603,
   "metadata": {},
   "outputs": [],
   "source": [
    "from rdkit.Chem import AllChem\n",
    "mol = Chem.AddHs(mol)\n",
    "# AllChem.Compute2DCoords(mol)\n",
    "AllChem.EmbedMolecule(mol)\n",
    "AllChem.UFFOptimizeMolecule(mol)\n",
    "conformer = mol.GetConformer()"
   ]
  },
  {
   "cell_type": "code",
   "execution_count": 604,
   "metadata": {},
   "outputs": [],
   "source": [
    "def calc_dihedraldeg(conf,hit_ats):\n",
    "    angle=Chem.rdMolTransforms.GetDihedralDeg(conf,hit_ats[0],hit_ats[1],hit_ats[2],hit_ats[3])\n",
    "    angle=abs(angle)\n",
    "    return round(angle,2)"
   ]
  },
  {
   "cell_type": "markdown",
   "metadata": {},
   "source": [
    "# Find dihedral angles between (1,2,3,4)"
   ]
  },
  {
   "cell_type": "code",
   "execution_count": 605,
   "metadata": {},
   "outputs": [
    {
     "data": {
      "text/plain": [
       "180.0"
      ]
     },
     "execution_count": 605,
     "metadata": {},
     "output_type": "execute_result"
    }
   ],
   "source": [
    "calc_dihedraldeg(conf = conformer,hit_ats=[1,2,3,4])"
   ]
  },
  {
   "cell_type": "markdown",
   "metadata": {},
   "source": [
    "# Find dihedral angles between (5,4,8,7)"
   ]
  },
  {
   "cell_type": "code",
   "execution_count": 606,
   "metadata": {},
   "outputs": [
    {
     "data": {
      "text/plain": [
       "0.0"
      ]
     },
     "execution_count": 606,
     "metadata": {},
     "output_type": "execute_result"
    }
   ],
   "source": [
    "calc_dihedraldeg(conf = conformer,hit_ats=[5,4,8,7])"
   ]
  },
  {
   "cell_type": "markdown",
   "metadata": {},
   "source": [
    "# Match the substructre to find indices of N-C=C-C atoms and calculate the dihedral angles, given sdf files"
   ]
  },
  {
   "cell_type": "code",
   "execution_count": 607,
   "metadata": {},
   "outputs": [
    {
     "data": {
      "image/png": "[encoded data removed]",
      "text/plain": [
       "<rdkit.Chem.rdchem.Mol at 0x1c069918350>"
      ]
     },
     "execution_count": 607,
     "metadata": {},
     "output_type": "execute_result"
    }
   ],
   "source": [
    "mol=Chem.MolFromSmiles('CN1CN(C)c2cc3nsnc3cc21')\n",
    "mol"
   ]
  },
  {
   "cell_type": "markdown",
   "metadata": {},
   "source": [
    "# Find the indices of N-C=C-C substructures and calculate the dihedral angles\n",
    "- N-C=C-C \n",
    "- calculate the dihedral angles"
   ]
  },
  {
   "cell_type": "code",
   "execution_count": null,
   "metadata": {},
   "outputs": [
    {
     "data": {
      "image/png": "[encoded data removed]",
      "text/plain": [
       "<rdkit.Chem.rdchem.Mol at 0x1c045e06800>"
      ]
     },
     "execution_count": 502,
     "metadata": {},
     "output_type": "execute_result"
    }
   ],
   "source": [
    "patt=Chem.MolFromSmiles('NC1=CC=CC=C1')\n",
    "patt"
   ]
  },
  {
   "cell_type": "code",
   "execution_count": 608,
   "metadata": {},
   "outputs": [
    {
     "name": "stdout",
     "output_type": "stream",
     "text": [
      "idx hit_ats = ((1, 13, 12, 11, 7, 6, 5), (3, 5, 6, 7, 11, 12, 13))\n"
     ]
    }
   ],
   "source": [
    "hit_ats=mol.GetSubstructMatches(patt)\n",
    "print(f\"idx hit_ats = {hit_ats}\")"
   ]
  },
  {
   "cell_type": "code",
   "execution_count": 609,
   "metadata": {},
   "outputs": [
    {
     "name": "stdout",
     "output_type": "stream",
     "text": [
      "idx hit_ats[0] = (1, 13, 12, 11, 7, 6, 5)\n",
      "symbol hit_ats_sym[0] = ['N', 'C', 'C', 'C', 'C', 'C', 'C']\n",
      "idx hit_ats[1] = (3, 5, 6, 7, 11, 12, 13)\n",
      "symbol hit_ats_sym[1] = ['N', 'C', 'C', 'C', 'C', 'C', 'C']\n"
     ]
    }
   ],
   "source": [
    "hit_ats_0_sym=[mol.GetAtoms()[i].GetSymbol() for i in hit_ats[0]]\n",
    "hit_ats_1_sym=[mol.GetAtoms()[i].GetSymbol() for i in hit_ats[1]]\n",
    "print(f\"idx hit_ats[0] = {hit_ats[0]}\")\n",
    "print(f\"symbol hit_ats_sym[0] = {hit_ats_0_sym}\")\n",
    "print(f\"idx hit_ats[1] = {hit_ats[1]}\")\n",
    "print(f\"symbol hit_ats_sym[1] = {hit_ats_1_sym}\")"
   ]
  },
  {
   "cell_type": "markdown",
   "metadata": {},
   "source": [
    "# Pick only first 4 elements for N-C=C-C"
   ]
  },
  {
   "cell_type": "code",
   "execution_count": 610,
   "metadata": {},
   "outputs": [
    {
     "data": {
      "image/png": "[encoded data removed]",
      "text/plain": [
       "<rdkit.Chem.rdchem.Mol at 0x1c069918350>"
      ]
     },
     "execution_count": 610,
     "metadata": {},
     "output_type": "execute_result"
    }
   ],
   "source": [
    "mol"
   ]
  },
  {
   "cell_type": "code",
   "execution_count": 611,
   "metadata": {},
   "outputs": [
    {
     "data": {
      "text/plain": [
       "(180.0, 180.0)"
      ]
     },
     "execution_count": 611,
     "metadata": {},
     "output_type": "execute_result"
    }
   ],
   "source": [
    "mol = Chem.AddHs(mol)\n",
    "AllChem.EmbedMolecule(mol)\n",
    "AllChem.UFFOptimizeMolecule(mol)\n",
    "conformer = mol.GetConformer()\n",
    "calc_dihedraldeg(conf=conformer,hit_ats=hit_ats[0]), calc_dihedraldeg(conf=conformer,hit_ats=hit_ats[1])"
   ]
  },
  {
   "cell_type": "markdown",
   "metadata": {},
   "source": [
    "# Read sdf or xyz files and then find the dihedral angles of all N-C=C-C"
   ]
  },
  {
   "cell_type": "markdown",
   "metadata": {},
   "source": [
    "## to convert xyz to sdf [use](https://github.com/jensengroup/xyz2mol)\n",
    "- example: python xyz2mol.py examples/chiral_stereo_test.xyz -o sdf > save_file.sdf\n",
    "\n",
    "## read sdf files from the folder"
   ]
  },
  {
   "cell_type": "code",
   "execution_count": 612,
   "metadata": {},
   "outputs": [],
   "source": [
    "# deviation from the 0 or 180 degrees as a descriptor of planarity\n",
    "# 0 or close to 0 values means more planarity\n",
    "def calc_dihedraldeg_plane(conf,hit_ats):\n",
    "    angle=Chem.rdMolTransforms.GetDihedralDeg(conf,hit_ats[0],hit_ats[1],hit_ats[2],hit_ats[3])\n",
    "    angle=abs(angle)\n",
    "    return round(min(angle,180-angle),2)"
   ]
  },
  {
   "cell_type": "markdown",
   "metadata": {},
   "source": [
    "# Read sdf files from the folder and save paths in a list"
   ]
  },
  {
   "cell_type": "code",
   "execution_count": 613,
   "metadata": {},
   "outputs": [
    {
     "data": {
      "text/plain": [
       "['./Data/sdf_files/acyclic_btz_2amines_red_F-final.sdf',\n",
       " './Data/sdf_files/btz.sdf',\n",
       " './Data/sdf_files/BTZ6_F-final.sdf',\n",
       " './Data/sdf_files/double6_red_F-final.sdf',\n",
       " './Data/sdf_files/triple6_red_F-final.sdf']"
      ]
     },
     "execution_count": 613,
     "metadata": {},
     "output_type": "execute_result"
    }
   ],
   "source": [
    "folder=(r\"./Data/sdf_files/\")\n",
    "files=[]\n",
    "for j in os.listdir(folder):\n",
    "    if 'xyz' not in j:\n",
    "        files.append(folder+j)  \n",
    "len(files)\n",
    "files"
   ]
  },
  {
   "cell_type": "code",
   "execution_count": 614,
   "metadata": {},
   "outputs": [
    {
     "name": "stderr",
     "output_type": "stream",
     "text": [
      "[01:11:36] Warning: molecule is tagged as 3D, but all Z coords are zero\n"
     ]
    }
   ],
   "source": [
    "mols=[]\n",
    "for file in files:\n",
    "    suppl = Chem.SDMolSupplier(file)\n",
    "    for mol in suppl:\n",
    "        mols.append(mol)\n",
    "# mols"
   ]
  },
  {
   "cell_type": "markdown",
   "metadata": {},
   "source": [
    "# visualize molecules in sdf files"
   ]
  },
  {
   "cell_type": "code",
   "execution_count": 615,
   "metadata": {},
   "outputs": [
    {
     "data": {
      "image/svg+xml": "<svg baseProfile=\"full\" height=\"600px\" version=\"1.1\" viewBox=\"0 0 1200 600\" width=\"1200px\" xml:space=\"preserve\" xmlns=\"http://www.w3.org/2000/svg\" xmlns:rdkit=\"http://www.rdkit.org/xml\" xmlns:xlink=\"http://www.w3.org/1999/xlink\">\n<!-- END OF HEADER -->\n<rect height=\"600.0\" style=\"opacity:1.0;fill:#FFFFFF;stroke:none\" width=\"1200.0\" x=\"0.0\" y=\"0.0\"> </rect>\n<path class=\"bond-0 atom-0 atom-1\" d=\"M 243.7,46.8 L 244.5,67.0\" style=\"fill:none;fill-rule:evenodd;stroke:#000000;stroke-width:2.0px;stroke-linecap:butt;stroke-linejoin:miter;stroke-opacity:1\"/>\n<path class=\"bond-0 atom-0 atom-1\" d=\"M 244.5,67.0 L 245.3,87.1\" style=\"fill:none;fill-rule:evenodd;stroke:#0000FF;stroke-width:2.0px;stroke-linecap:butt;stroke-linejoin:miter;stroke-opacity:1\"/>\n<path class=\"bond-1 atom-1 atom-2\" d=\"M 253.0,97.3 L 264.4,98.8\" style=\"fill:none;fill-rule:evenodd;stroke:#0000FF;stroke-width:2.0px;stroke-linecap:butt;stroke-linejoin:miter;stroke-opacity:1\"/>\n<path class=\"bond-1 atom-1 atom-2\" d=\"M 264.4,98.8 L 275.8,100.4\" style=\"fill:none;fill-rule:evenodd;stroke:#000000;stroke-width:2.0px;stroke-linecap:butt;stroke-linejoin:miter;stroke-opacity:1\"/>\n<path class=\"bond-2 atom-1 atom-3\" d=\"M 238.3,100.4 L 219.7,110.8\" style=\"fill:none;fill-rule:evenodd;stroke:#0000FF;stroke-width:2.0px;stroke-linecap:butt;stroke-linejoin:miter;stroke-opacity:1\"/>\n<path class=\"bond-2 atom-1 atom-3\" d=\"M 219.7,110.8 L 201.1,121.3\" style=\"fill:none;fill-rule:evenodd;stroke:#000000;stroke-width:2.0px;stroke-linecap:butt;stroke-linejoin:miter;stroke-opacity:1\"/>\n<path class=\"bond-3 atom-3 atom-4\" d=\"M 201.1,121.3 L 201.4,172.7\" style=\"fill:none;fill-rule:evenodd;stroke:#000000;stroke-width:2.0px;stroke-linecap:butt;stroke-linejoin:miter;stroke-opacity:1\"/>\n<path class=\"bond-4 atom-3 atom-14\" d=\"M 201.1,121.3 L 157.4,96.5\" style=\"fill:none;fill-rule:evenodd;stroke:#000000;stroke-width:2.0px;stroke-linecap:butt;stroke-linejoin:miter;stroke-opacity:1\"/>\n<path class=\"bond-4 atom-3 atom-14\" d=\"M 189.2,126.9 L 158.7,109.5\" style=\"fill:none;fill-rule:evenodd;stroke:#000000;stroke-width:2.0px;stroke-linecap:butt;stroke-linejoin:miter;stroke-opacity:1\"/>\n<path class=\"bond-5 atom-4 atom-5\" d=\"M 201.4,172.7 L 219.9,183.4\" style=\"fill:none;fill-rule:evenodd;stroke:#000000;stroke-width:2.0px;stroke-linecap:butt;stroke-linejoin:miter;stroke-opacity:1\"/>\n<path class=\"bond-5 atom-4 atom-5\" d=\"M 219.9,183.4 L 238.4,194.1\" style=\"fill:none;fill-rule:evenodd;stroke:#0000FF;stroke-width:2.0px;stroke-linecap:butt;stroke-linejoin:miter;stroke-opacity:1\"/>\n<path class=\"bond-6 atom-4 atom-8\" d=\"M 201.4,172.7 L 157.1,196.2\" style=\"fill:none;fill-rule:evenodd;stroke:#000000;stroke-width:2.0px;stroke-linecap:butt;stroke-linejoin:miter;stroke-opacity:1\"/>\n<path class=\"bond-6 atom-4 atom-8\" d=\"M 189.7,166.7 L 158.7,183.2\" style=\"fill:none;fill-rule:evenodd;stroke:#000000;stroke-width:2.0px;stroke-linecap:butt;stroke-linejoin:miter;stroke-opacity:1\"/>\n<path class=\"bond-7 atom-5 atom-6\" d=\"M 248.1,207.6 L 251.4,220.9\" style=\"fill:none;fill-rule:evenodd;stroke:#0000FF;stroke-width:2.0px;stroke-linecap:butt;stroke-linejoin:miter;stroke-opacity:1\"/>\n<path class=\"bond-7 atom-5 atom-6\" d=\"M 251.4,220.9 L 254.7,234.1\" style=\"fill:none;fill-rule:evenodd;stroke:#000000;stroke-width:2.0px;stroke-linecap:butt;stroke-linejoin:miter;stroke-opacity:1\"/>\n<path class=\"bond-8 atom-5 atom-7\" d=\"M 252.2,207.6 L 255.0,211.5\" style=\"fill:none;fill-rule:evenodd;stroke:#0000FF;stroke-width:2.0px;stroke-linecap:butt;stroke-linejoin:miter;stroke-opacity:1\"/>\n<path class=\"bond-8 atom-5 atom-7\" d=\"M 255.0,211.5 L 257.8,215.5\" style=\"fill:none;fill-rule:evenodd;stroke:#000000;stroke-width:2.0px;stroke-linecap:butt;stroke-linejoin:miter;stroke-opacity:1\"/>\n<path class=\"bond-9 atom-8 atom-9\" d=\"M 157.1,196.2 L 112.5,172.9\" style=\"fill:none;fill-rule:evenodd;stroke:#000000;stroke-width:2.0px;stroke-linecap:butt;stroke-linejoin:miter;stroke-opacity:1\"/>\n<path class=\"bond-10 atom-8 atom-15\" d=\"M 157.1,196.2 L 156.9,216.3\" style=\"fill:none;fill-rule:evenodd;stroke:#000000;stroke-width:2.0px;stroke-linecap:butt;stroke-linejoin:miter;stroke-opacity:1\"/>\n<path class=\"bond-10 atom-8 atom-15\" d=\"M 156.9,216.3 L 156.7,236.4\" style=\"fill:none;fill-rule:evenodd;stroke:#33CCCC;stroke-width:2.0px;stroke-linecap:butt;stroke-linejoin:miter;stroke-opacity:1\"/>\n<path class=\"bond-11 atom-9 atom-10\" d=\"M 112.5,172.9 L 94.1,181.6\" style=\"fill:none;fill-rule:evenodd;stroke:#000000;stroke-width:2.0px;stroke-linecap:butt;stroke-linejoin:miter;stroke-opacity:1\"/>\n<path class=\"bond-11 atom-9 atom-10\" d=\"M 94.1,181.6 L 75.8,190.3\" style=\"fill:none;fill-rule:evenodd;stroke:#0000FF;stroke-width:2.0px;stroke-linecap:butt;stroke-linejoin:miter;stroke-opacity:1\"/>\n<path class=\"bond-11 atom-9 atom-10\" d=\"M 102.4,165.8 L 89.5,171.9\" style=\"fill:none;fill-rule:evenodd;stroke:#000000;stroke-width:2.0px;stroke-linecap:butt;stroke-linejoin:miter;stroke-opacity:1\"/>\n<path class=\"bond-11 atom-9 atom-10\" d=\"M 89.5,171.9 L 76.7,178.0\" style=\"fill:none;fill-rule:evenodd;stroke:#0000FF;stroke-width:2.0px;stroke-linecap:butt;stroke-linejoin:miter;stroke-opacity:1\"/>\n<path class=\"bond-12 atom-9 atom-13\" d=\"M 112.5,172.9 L 113.1,121.2\" style=\"fill:none;fill-rule:evenodd;stroke:#000000;stroke-width:2.0px;stroke-linecap:butt;stroke-linejoin:miter;stroke-opacity:1\"/>\n<path class=\"bond-13 atom-10 atom-11\" d=\"M 61.1,185.0 L 48.3,169.8\" style=\"fill:none;fill-rule:evenodd;stroke:#0000FF;stroke-width:2.0px;stroke-linecap:butt;stroke-linejoin:miter;stroke-opacity:1\"/>\n<path class=\"bond-13 atom-10 atom-11\" d=\"M 48.3,169.8 L 35.5,154.6\" style=\"fill:none;fill-rule:evenodd;stroke:#CCCC00;stroke-width:2.0px;stroke-linecap:butt;stroke-linejoin:miter;stroke-opacity:1\"/>\n<path class=\"bond-14 atom-11 atom-12\" d=\"M 35.5,139.4 L 48.6,124.2\" style=\"fill:none;fill-rule:evenodd;stroke:#CCCC00;stroke-width:2.0px;stroke-linecap:butt;stroke-linejoin:miter;stroke-opacity:1\"/>\n<path class=\"bond-14 atom-11 atom-12\" d=\"M 48.6,124.2 L 61.7,109.1\" style=\"fill:none;fill-rule:evenodd;stroke:#0000FF;stroke-width:2.0px;stroke-linecap:butt;stroke-linejoin:miter;stroke-opacity:1\"/>\n<path class=\"bond-15 atom-12 atom-13\" d=\"M 76.4,104.0 L 94.8,112.6\" style=\"fill:none;fill-rule:evenodd;stroke:#0000FF;stroke-width:2.0px;stroke-linecap:butt;stroke-linejoin:miter;stroke-opacity:1\"/>\n<path class=\"bond-15 atom-12 atom-13\" d=\"M 94.8,112.6 L 113.1,121.2\" style=\"fill:none;fill-rule:evenodd;stroke:#000000;stroke-width:2.0px;stroke-linecap:butt;stroke-linejoin:miter;stroke-opacity:1\"/>\n<path class=\"bond-15 atom-12 atom-13\" d=\"M 77.4,116.4 L 90.2,122.4\" style=\"fill:none;fill-rule:evenodd;stroke:#0000FF;stroke-width:2.0px;stroke-linecap:butt;stroke-linejoin:miter;stroke-opacity:1\"/>\n<path class=\"bond-15 atom-12 atom-13\" d=\"M 90.2,122.4 L 103.1,128.4\" style=\"fill:none;fill-rule:evenodd;stroke:#000000;stroke-width:2.0px;stroke-linecap:butt;stroke-linejoin:miter;stroke-opacity:1\"/>\n<path class=\"bond-16 atom-13 atom-14\" d=\"M 113.1,121.2 L 157.4,96.5\" style=\"fill:none;fill-rule:evenodd;stroke:#000000;stroke-width:2.0px;stroke-linecap:butt;stroke-linejoin:miter;stroke-opacity:1\"/>\n<path class=\"atom-1\" d=\"M 242.3 88.7 L 247.3 96.7 Q 247.8 97.5, 248.6 99.0 Q 249.4 100.4, 249.4 100.5 L 249.4 88.7 L 251.4 88.7 L 251.4 103.9 L 249.3 103.9 L 244.0 95.1 Q 243.4 94.0, 242.7 92.9 Q 242.0 91.7, 241.9 91.3 L 241.9 103.9 L 239.9 103.9 L 239.9 88.7 L 242.3 88.7 \" fill=\"#0000FF\"/>\n<path class=\"atom-5\" d=\"M 242.4 190.8 L 247.4 198.9 Q 247.9 199.7, 248.7 201.1 Q 249.5 202.5, 249.5 202.6 L 249.5 190.8 L 251.5 190.8 L 251.5 206.0 L 249.4 206.0 L 244.1 197.2 Q 243.5 196.2, 242.8 195.0 Q 242.1 193.8, 242.0 193.4 L 242.0 206.0 L 240.0 206.0 L 240.0 190.8 L 242.4 190.8 \" fill=\"#0000FF\"/>\n<path class=\"atom-10\" d=\"M 65.0 186.2 L 70.0 194.2 Q 70.5 195.0, 71.3 196.5 Q 72.1 197.9, 72.2 198.0 L 72.2 186.2 L 74.2 186.2 L 74.2 201.4 L 72.1 201.4 L 66.7 192.6 Q 66.1 191.5, 65.4 190.4 Q 64.8 189.2, 64.6 188.8 L 64.6 201.4 L 62.6 201.4 L 62.6 186.2 L 65.0 186.2 \" fill=\"#0000FF\"/>\n<path class=\"atom-11\" d=\"M 24.8 152.1 Q 24.9 152.2, 25.6 152.5 Q 26.4 152.8, 27.1 153.0 Q 27.9 153.1, 28.7 153.1 Q 30.1 153.1, 31.0 152.4 Q 31.8 151.7, 31.8 150.5 Q 31.8 149.7, 31.4 149.1 Q 31.0 148.6, 30.3 148.3 Q 29.7 148.1, 28.6 147.7 Q 27.3 147.3, 26.4 147.0 Q 25.6 146.6, 25.1 145.7 Q 24.5 144.9, 24.5 143.6 Q 24.5 141.6, 25.8 140.5 Q 27.1 139.3, 29.7 139.3 Q 31.4 139.3, 33.4 140.1 L 33.0 141.8 Q 31.1 141.0, 29.8 141.0 Q 28.3 141.0, 27.5 141.6 Q 26.6 142.2, 26.7 143.3 Q 26.7 144.1, 27.1 144.6 Q 27.5 145.1, 28.1 145.4 Q 28.7 145.7, 29.8 146.0 Q 31.1 146.4, 31.9 146.8 Q 32.8 147.3, 33.3 148.2 Q 33.9 149.0, 33.9 150.5 Q 33.9 152.6, 32.5 153.7 Q 31.1 154.9, 28.8 154.9 Q 27.4 154.9, 26.4 154.6 Q 25.4 154.3, 24.2 153.8 L 24.8 152.1 \" fill=\"#CCCC00\"/>\n<path class=\"atom-12\" d=\"M 65.7 93.0 L 70.7 101.1 Q 71.2 101.8, 72.0 103.3 Q 72.8 104.7, 72.8 104.8 L 72.8 93.0 L 74.8 93.0 L 74.8 108.2 L 72.8 108.2 L 67.4 99.4 Q 66.8 98.4, 66.1 97.2 Q 65.5 96.0, 65.3 95.6 L 65.3 108.2 L 63.3 108.2 L 63.3 93.0 L 65.7 93.0 \" fill=\"#0000FF\"/>\n<path class=\"atom-15\" d=\"M 152.1 237.9 L 161.2 237.9 L 161.2 239.7 L 154.2 239.7 L 154.2 244.3 L 160.4 244.3 L 160.4 246.1 L 154.2 246.1 L 154.2 253.2 L 152.1 253.2 L 152.1 237.9 \" fill=\"#33CCCC\"/>\n<path class=\"bond-0 atom-0 atom-1\" d=\"M 536.5,124.3 L 536.5,175.7\" style=\"fill:none;fill-rule:evenodd;stroke:#000000;stroke-width:2.0px;stroke-linecap:butt;stroke-linejoin:miter;stroke-opacity:1\"/>\n<path class=\"bond-1 atom-0 atom-8\" d=\"M 536.5,124.3 L 494.7,98.3\" style=\"fill:none;fill-rule:evenodd;stroke:#000000;stroke-width:2.0px;stroke-linecap:butt;stroke-linejoin:miter;stroke-opacity:1\"/>\n<path class=\"bond-1 atom-0 atom-8\" d=\"M 524.5,129.5 L 495.3,111.4\" style=\"fill:none;fill-rule:evenodd;stroke:#000000;stroke-width:2.0px;stroke-linecap:butt;stroke-linejoin:miter;stroke-opacity:1\"/>\n<path class=\"bond-2 atom-1 atom-2\" d=\"M 536.5,175.7 L 494.7,201.7\" style=\"fill:none;fill-rule:evenodd;stroke:#000000;stroke-width:2.0px;stroke-linecap:butt;stroke-linejoin:miter;stroke-opacity:1\"/>\n<path class=\"bond-2 atom-1 atom-2\" d=\"M 524.5,170.5 L 495.3,188.6\" style=\"fill:none;fill-rule:evenodd;stroke:#000000;stroke-width:2.0px;stroke-linecap:butt;stroke-linejoin:miter;stroke-opacity:1\"/>\n<path class=\"bond-3 atom-2 atom-3\" d=\"M 494.7,201.7 L 450.5,176.0\" style=\"fill:none;fill-rule:evenodd;stroke:#000000;stroke-width:2.0px;stroke-linecap:butt;stroke-linejoin:miter;stroke-opacity:1\"/>\n<path class=\"bond-4 atom-3 atom-4\" d=\"M 450.5,176.0 L 432.2,183.9\" style=\"fill:none;fill-rule:evenodd;stroke:#000000;stroke-width:2.0px;stroke-linecap:butt;stroke-linejoin:miter;stroke-opacity:1\"/>\n<path class=\"bond-4 atom-3 atom-4\" d=\"M 432.2,183.9 L 413.8,191.9\" style=\"fill:none;fill-rule:evenodd;stroke:#0000FF;stroke-width:2.0px;stroke-linecap:butt;stroke-linejoin:miter;stroke-opacity:1\"/>\n<path class=\"bond-4 atom-3 atom-4\" d=\"M 440.7,168.5 L 427.9,174.1\" style=\"fill:none;fill-rule:evenodd;stroke:#000000;stroke-width:2.0px;stroke-linecap:butt;stroke-linejoin:miter;stroke-opacity:1\"/>\n<path class=\"bond-4 atom-3 atom-4\" d=\"M 427.9,174.1 L 415.1,179.6\" style=\"fill:none;fill-rule:evenodd;stroke:#0000FF;stroke-width:2.0px;stroke-linecap:butt;stroke-linejoin:miter;stroke-opacity:1\"/>\n<path class=\"bond-5 atom-3 atom-7\" d=\"M 450.5,176.0 L 450.5,124.0\" style=\"fill:none;fill-rule:evenodd;stroke:#000000;stroke-width:2.0px;stroke-linecap:butt;stroke-linejoin:miter;stroke-opacity:1\"/>\n<path class=\"bond-6 atom-4 atom-5\" d=\"M 398.9,186.2 L 386.9,172.0\" style=\"fill:none;fill-rule:evenodd;stroke:#0000FF;stroke-width:2.0px;stroke-linecap:butt;stroke-linejoin:miter;stroke-opacity:1\"/>\n<path class=\"bond-6 atom-4 atom-5\" d=\"M 386.9,172.0 L 375.0,157.8\" style=\"fill:none;fill-rule:evenodd;stroke:#CCCC00;stroke-width:2.0px;stroke-linecap:butt;stroke-linejoin:miter;stroke-opacity:1\"/>\n<path class=\"bond-7 atom-5 atom-6\" d=\"M 375.0,142.2 L 386.9,128.0\" style=\"fill:none;fill-rule:evenodd;stroke:#CCCC00;stroke-width:2.0px;stroke-linecap:butt;stroke-linejoin:miter;stroke-opacity:1\"/>\n<path class=\"bond-7 atom-5 atom-6\" d=\"M 386.9,128.0 L 398.9,113.8\" style=\"fill:none;fill-rule:evenodd;stroke:#0000FF;stroke-width:2.0px;stroke-linecap:butt;stroke-linejoin:miter;stroke-opacity:1\"/>\n<path class=\"bond-8 atom-6 atom-7\" d=\"M 413.8,108.1 L 432.2,116.1\" style=\"fill:none;fill-rule:evenodd;stroke:#0000FF;stroke-width:2.0px;stroke-linecap:butt;stroke-linejoin:miter;stroke-opacity:1\"/>\n<path class=\"bond-8 atom-6 atom-7\" d=\"M 432.2,116.1 L 450.5,124.0\" style=\"fill:none;fill-rule:evenodd;stroke:#000000;stroke-width:2.0px;stroke-linecap:butt;stroke-linejoin:miter;stroke-opacity:1\"/>\n<path class=\"bond-8 atom-6 atom-7\" d=\"M 415.1,120.4 L 427.9,125.9\" style=\"fill:none;fill-rule:evenodd;stroke:#0000FF;stroke-width:2.0px;stroke-linecap:butt;stroke-linejoin:miter;stroke-opacity:1\"/>\n<path class=\"bond-8 atom-6 atom-7\" d=\"M 427.9,125.9 L 440.7,131.5\" style=\"fill:none;fill-rule:evenodd;stroke:#000000;stroke-width:2.0px;stroke-linecap:butt;stroke-linejoin:miter;stroke-opacity:1\"/>\n<path class=\"bond-9 atom-7 atom-8\" d=\"M 450.5,124.0 L 494.7,98.3\" style=\"fill:none;fill-rule:evenodd;stroke:#000000;stroke-width:2.0px;stroke-linecap:butt;stroke-linejoin:miter;stroke-opacity:1\"/>\n<path class=\"atom-4\" d=\"M 403.0 187.5 L 408.0 195.6 Q 408.5 196.4, 409.3 197.8 Q 410.1 199.2, 410.1 199.3 L 410.1 187.5 L 412.1 187.5 L 412.1 202.7 L 410.0 202.7 L 404.7 193.9 Q 404.1 192.9, 403.4 191.7 Q 402.7 190.5, 402.6 190.1 L 402.6 202.7 L 400.6 202.7 L 400.6 187.5 L 403.0 187.5 \" fill=\"#0000FF\"/>\n<path class=\"atom-5\" d=\"M 364.1 155.2 Q 364.3 155.3, 365.0 155.6 Q 365.7 155.9, 366.5 156.1 Q 367.3 156.3, 368.0 156.3 Q 369.5 156.3, 370.3 155.6 Q 371.2 154.9, 371.2 153.6 Q 371.2 152.8, 370.7 152.3 Q 370.3 151.8, 369.7 151.5 Q 369.0 151.2, 368.0 150.9 Q 366.6 150.5, 365.8 150.1 Q 365.0 149.7, 364.4 148.9 Q 363.9 148.1, 363.9 146.7 Q 363.9 144.8, 365.1 143.6 Q 366.5 142.4, 369.0 142.4 Q 370.8 142.4, 372.8 143.2 L 372.3 144.9 Q 370.5 144.2, 369.1 144.2 Q 367.6 144.2, 366.8 144.8 Q 366.0 145.4, 366.0 146.4 Q 366.0 147.2, 366.4 147.7 Q 366.8 148.2, 367.4 148.5 Q 368.1 148.8, 369.1 149.1 Q 370.5 149.5, 371.3 150.0 Q 372.1 150.4, 372.7 151.3 Q 373.3 152.1, 373.3 153.6 Q 373.3 155.7, 371.9 156.9 Q 370.5 158.0, 368.1 158.0 Q 366.8 158.0, 365.7 157.7 Q 364.7 157.4, 363.5 156.9 L 364.1 155.2 \" fill=\"#CCCC00\"/>\n<path class=\"atom-6\" d=\"M 403.0 97.3 L 408.0 105.3 Q 408.5 106.1, 409.3 107.6 Q 410.1 109.0, 410.1 109.1 L 410.1 97.3 L 412.1 97.3 L 412.1 112.5 L 410.0 112.5 L 404.7 103.7 Q 404.1 102.7, 403.4 101.5 Q 402.7 100.3, 402.6 99.9 L 402.6 112.5 L 400.6 112.5 L 400.6 97.3 L 403.0 97.3 \" fill=\"#0000FF\"/>\n<path class=\"bond-0 atom-0 atom-11\" d=\"M 661.5,46.2 L 662.1,67.6\" style=\"fill:none;fill-rule:evenodd;stroke:#000000;stroke-width:2.0px;stroke-linecap:butt;stroke-linejoin:miter;stroke-opacity:1\"/>\n<path class=\"bond-0 atom-0 atom-11\" d=\"M 662.1,67.6 L 662.7,88.9\" style=\"fill:none;fill-rule:evenodd;stroke:#0000FF;stroke-width:2.0px;stroke-linecap:butt;stroke-linejoin:miter;stroke-opacity:1\"/>\n<path class=\"bond-1 atom-1 atom-2\" d=\"M 618.5,123.9 L 621.0,173.7\" style=\"fill:none;fill-rule:evenodd;stroke:#000000;stroke-width:2.0px;stroke-linecap:butt;stroke-linejoin:miter;stroke-opacity:1\"/>\n<path class=\"bond-2 atom-1 atom-11\" d=\"M 618.5,123.9 L 637.0,113.2\" style=\"fill:none;fill-rule:evenodd;stroke:#000000;stroke-width:2.0px;stroke-linecap:butt;stroke-linejoin:miter;stroke-opacity:1\"/>\n<path class=\"bond-2 atom-1 atom-11\" d=\"M 637.0,113.2 L 655.5,102.5\" style=\"fill:none;fill-rule:evenodd;stroke:#0000FF;stroke-width:2.0px;stroke-linecap:butt;stroke-linejoin:miter;stroke-opacity:1\"/>\n<path class=\"bond-3 atom-2 atom-12\" d=\"M 621.0,173.7 L 638.4,183.9\" style=\"fill:none;fill-rule:evenodd;stroke:#000000;stroke-width:2.0px;stroke-linecap:butt;stroke-linejoin:miter;stroke-opacity:1\"/>\n<path class=\"bond-3 atom-2 atom-12\" d=\"M 638.4,183.9 L 655.8,194.1\" style=\"fill:none;fill-rule:evenodd;stroke:#0000FF;stroke-width:2.0px;stroke-linecap:butt;stroke-linejoin:miter;stroke-opacity:1\"/>\n<path class=\"bond-4 atom-3 atom-4\" d=\"M 706.7,174.9 L 750.9,197.3\" style=\"fill:none;fill-rule:evenodd;stroke:#000000;stroke-width:2.0px;stroke-linecap:butt;stroke-linejoin:miter;stroke-opacity:1\"/>\n<path class=\"bond-4 atom-3 atom-4\" d=\"M 718.2,168.7 L 749.1,184.4\" style=\"fill:none;fill-rule:evenodd;stroke:#000000;stroke-width:2.0px;stroke-linecap:butt;stroke-linejoin:miter;stroke-opacity:1\"/>\n<path class=\"bond-5 atom-3 atom-5\" d=\"M 706.7,174.9 L 706.4,121.6\" style=\"fill:none;fill-rule:evenodd;stroke:#000000;stroke-width:2.0px;stroke-linecap:butt;stroke-linejoin:miter;stroke-opacity:1\"/>\n<path class=\"bond-6 atom-3 atom-12\" d=\"M 706.7,174.9 L 688.7,184.7\" style=\"fill:none;fill-rule:evenodd;stroke:#000000;stroke-width:2.0px;stroke-linecap:butt;stroke-linejoin:miter;stroke-opacity:1\"/>\n<path class=\"bond-6 atom-3 atom-12\" d=\"M 688.7,184.7 L 670.8,194.4\" style=\"fill:none;fill-rule:evenodd;stroke:#0000FF;stroke-width:2.0px;stroke-linecap:butt;stroke-linejoin:miter;stroke-opacity:1\"/>\n<path class=\"bond-7 atom-4 atom-7\" d=\"M 750.9,197.3 L 794.9,172.1\" style=\"fill:none;fill-rule:evenodd;stroke:#000000;stroke-width:2.0px;stroke-linecap:butt;stroke-linejoin:miter;stroke-opacity:1\"/>\n<path class=\"bond-8 atom-4 atom-10\" d=\"M 750.9,197.3 L 752.4,217.1\" style=\"fill:none;fill-rule:evenodd;stroke:#000000;stroke-width:2.0px;stroke-linecap:butt;stroke-linejoin:miter;stroke-opacity:1\"/>\n<path class=\"bond-8 atom-4 atom-10\" d=\"M 752.4,217.1 L 753.9,236.9\" style=\"fill:none;fill-rule:evenodd;stroke:#33CCCC;stroke-width:2.0px;stroke-linecap:butt;stroke-linejoin:miter;stroke-opacity:1\"/>\n<path class=\"bond-9 atom-5 atom-6\" d=\"M 706.4,121.6 L 749.0,95.9\" style=\"fill:none;fill-rule:evenodd;stroke:#000000;stroke-width:2.0px;stroke-linecap:butt;stroke-linejoin:miter;stroke-opacity:1\"/>\n<path class=\"bond-9 atom-5 atom-6\" d=\"M 718.3,126.9 L 748.2,108.9\" style=\"fill:none;fill-rule:evenodd;stroke:#000000;stroke-width:2.0px;stroke-linecap:butt;stroke-linejoin:miter;stroke-opacity:1\"/>\n<path class=\"bond-10 atom-5 atom-11\" d=\"M 706.4,121.6 L 688.4,111.9\" style=\"fill:none;fill-rule:evenodd;stroke:#000000;stroke-width:2.0px;stroke-linecap:butt;stroke-linejoin:miter;stroke-opacity:1\"/>\n<path class=\"bond-10 atom-5 atom-11\" d=\"M 688.4,111.9 L 670.5,102.3\" style=\"fill:none;fill-rule:evenodd;stroke:#0000FF;stroke-width:2.0px;stroke-linecap:butt;stroke-linejoin:miter;stroke-opacity:1\"/>\n<path class=\"bond-11 atom-6 atom-8\" d=\"M 749.0,95.9 L 793.5,120.2\" style=\"fill:none;fill-rule:evenodd;stroke:#000000;stroke-width:2.0px;stroke-linecap:butt;stroke-linejoin:miter;stroke-opacity:1\"/>\n<path class=\"bond-12 atom-7 atom-8\" d=\"M 794.9,172.1 L 793.5,120.2\" style=\"fill:none;fill-rule:evenodd;stroke:#000000;stroke-width:2.0px;stroke-linecap:butt;stroke-linejoin:miter;stroke-opacity:1\"/>\n<path class=\"bond-13 atom-7 atom-13\" d=\"M 794.9,172.1 L 813.1,179.9\" style=\"fill:none;fill-rule:evenodd;stroke:#000000;stroke-width:2.0px;stroke-linecap:butt;stroke-linejoin:miter;stroke-opacity:1\"/>\n<path class=\"bond-13 atom-7 atom-13\" d=\"M 813.1,179.9 L 831.3,187.7\" style=\"fill:none;fill-rule:evenodd;stroke:#0000FF;stroke-width:2.0px;stroke-linecap:butt;stroke-linejoin:miter;stroke-opacity:1\"/>\n<path class=\"bond-13 atom-7 atom-13\" d=\"M 804.6,164.5 L 817.3,170.0\" style=\"fill:none;fill-rule:evenodd;stroke:#000000;stroke-width:2.0px;stroke-linecap:butt;stroke-linejoin:miter;stroke-opacity:1\"/>\n<path class=\"bond-13 atom-7 atom-13\" d=\"M 817.3,170.0 L 830.1,175.5\" style=\"fill:none;fill-rule:evenodd;stroke:#0000FF;stroke-width:2.0px;stroke-linecap:butt;stroke-linejoin:miter;stroke-opacity:1\"/>\n<path class=\"bond-14 atom-8 atom-14\" d=\"M 793.5,120.2 L 811.6,111.9\" style=\"fill:none;fill-rule:evenodd;stroke:#000000;stroke-width:2.0px;stroke-linecap:butt;stroke-linejoin:miter;stroke-opacity:1\"/>\n<path class=\"bond-14 atom-8 atom-14\" d=\"M 811.6,111.9 L 829.7,103.7\" style=\"fill:none;fill-rule:evenodd;stroke:#0000FF;stroke-width:2.0px;stroke-linecap:butt;stroke-linejoin:miter;stroke-opacity:1\"/>\n<path class=\"bond-14 atom-8 atom-14\" d=\"M 803.4,127.5 L 816.1,121.7\" style=\"fill:none;fill-rule:evenodd;stroke:#000000;stroke-width:2.0px;stroke-linecap:butt;stroke-linejoin:miter;stroke-opacity:1\"/>\n<path class=\"bond-14 atom-8 atom-14\" d=\"M 816.1,121.7 L 828.7,116.0\" style=\"fill:none;fill-rule:evenodd;stroke:#0000FF;stroke-width:2.0px;stroke-linecap:butt;stroke-linejoin:miter;stroke-opacity:1\"/>\n<path class=\"bond-15 atom-9 atom-12\" d=\"M 659.1,250.6 L 660.8,229.2\" style=\"fill:none;fill-rule:evenodd;stroke:#000000;stroke-width:2.0px;stroke-linecap:butt;stroke-linejoin:miter;stroke-opacity:1\"/>\n<path class=\"bond-15 atom-9 atom-12\" d=\"M 660.8,229.2 L 662.6,207.8\" style=\"fill:none;fill-rule:evenodd;stroke:#0000FF;stroke-width:2.0px;stroke-linecap:butt;stroke-linejoin:miter;stroke-opacity:1\"/>\n<path class=\"bond-16 atom-13 atom-15\" d=\"M 846.3,181.8 L 858.2,167.3\" style=\"fill:none;fill-rule:evenodd;stroke:#0000FF;stroke-width:2.0px;stroke-linecap:butt;stroke-linejoin:miter;stroke-opacity:1\"/>\n<path class=\"bond-16 atom-13 atom-15\" d=\"M 858.2,167.3 L 870.1,152.9\" style=\"fill:none;fill-rule:evenodd;stroke:#CCCC00;stroke-width:2.0px;stroke-linecap:butt;stroke-linejoin:miter;stroke-opacity:1\"/>\n<path class=\"bond-17 atom-14 atom-15\" d=\"M 844.6,108.8 L 857.3,123.1\" style=\"fill:none;fill-rule:evenodd;stroke:#0000FF;stroke-width:2.0px;stroke-linecap:butt;stroke-linejoin:miter;stroke-opacity:1\"/>\n<path class=\"bond-17 atom-14 atom-15\" d=\"M 857.3,123.1 L 870.1,137.5\" style=\"fill:none;fill-rule:evenodd;stroke:#CCCC00;stroke-width:2.0px;stroke-linecap:butt;stroke-linejoin:miter;stroke-opacity:1\"/>\n<path class=\"atom-10\" d=\"M 750.1 238.6 L 759.1 238.6 L 759.1 240.3 L 752.1 240.3 L 752.1 245.0 L 758.3 245.0 L 758.3 246.7 L 752.1 246.7 L 752.1 253.8 L 750.1 253.8 L 750.1 238.6 \" fill=\"#33CCCC\"/>\n<path class=\"atom-11\" d=\"M 659.6 90.6 L 664.6 98.7 Q 665.1 99.5, 665.9 100.9 Q 666.7 102.4, 666.8 102.5 L 666.8 90.6 L 668.8 90.6 L 668.8 105.9 L 666.7 105.9 L 661.3 97.0 Q 660.7 96.0, 660.0 94.8 Q 659.4 93.6, 659.2 93.3 L 659.2 105.9 L 657.2 105.9 L 657.2 90.6 L 659.6 90.6 \" fill=\"#0000FF\"/>\n<path class=\"atom-12\" d=\"M 659.9 190.9 L 664.9 199.0 Q 665.4 199.7, 666.2 201.2 Q 667.0 202.6, 667.1 202.7 L 667.1 190.9 L 669.1 190.9 L 669.1 206.1 L 667.0 206.1 L 661.6 197.3 Q 661.0 196.3, 660.4 195.1 Q 659.7 193.9, 659.5 193.5 L 659.5 206.1 L 657.5 206.1 L 657.5 190.9 L 659.9 190.9 \" fill=\"#0000FF\"/>\n<path class=\"atom-13\" d=\"M 835.4 183.3 L 840.4 191.3 Q 840.9 192.1, 841.7 193.6 Q 842.5 195.0, 842.5 195.1 L 842.5 183.3 L 844.6 183.3 L 844.6 198.5 L 842.5 198.5 L 837.1 189.7 Q 836.5 188.6, 835.8 187.5 Q 835.2 186.3, 835.0 185.9 L 835.0 198.5 L 833.0 198.5 L 833.0 183.3 L 835.4 183.3 \" fill=\"#0000FF\"/>\n<path class=\"atom-14\" d=\"M 833.8 92.7 L 838.8 100.8 Q 839.3 101.6, 840.1 103.0 Q 840.9 104.5, 840.9 104.5 L 840.9 92.7 L 842.9 92.7 L 842.9 107.9 L 840.9 107.9 L 835.5 99.1 Q 834.9 98.1, 834.2 96.9 Q 833.6 95.7, 833.4 95.4 L 833.4 107.9 L 831.4 107.9 L 831.4 92.7 L 833.8 92.7 \" fill=\"#0000FF\"/>\n<path class=\"atom-15\" d=\"M 872.3 150.1 Q 872.5 150.2, 873.2 150.5 Q 873.9 150.8, 874.7 151.0 Q 875.5 151.1, 876.3 151.1 Q 877.7 151.1, 878.5 150.4 Q 879.4 149.7, 879.4 148.5 Q 879.4 147.7, 878.9 147.2 Q 878.5 146.6, 877.9 146.4 Q 877.2 146.1, 876.2 145.8 Q 874.8 145.3, 874.0 145.0 Q 873.2 144.6, 872.6 143.8 Q 872.1 142.9, 872.1 141.6 Q 872.1 139.6, 873.4 138.5 Q 874.7 137.3, 877.2 137.3 Q 879.0 137.3, 881.0 138.1 L 880.5 139.8 Q 878.7 139.0, 877.3 139.0 Q 875.8 139.0, 875.0 139.6 Q 874.2 140.2, 874.2 141.3 Q 874.2 142.1, 874.6 142.6 Q 875.1 143.1, 875.7 143.4 Q 876.3 143.7, 877.3 144.0 Q 878.7 144.4, 879.5 144.9 Q 880.3 145.3, 880.9 146.2 Q 881.5 147.0, 881.5 148.5 Q 881.5 150.6, 880.1 151.8 Q 878.7 152.9, 876.3 152.9 Q 875.0 152.9, 874.0 152.6 Q 872.9 152.3, 871.7 151.8 L 872.3 150.1 \" fill=\"#CCCC00\"/>\n<path class=\"bond-0 atom-0 atom-1\" d=\"M 956.4,251.3 L 958.0,229.9\" style=\"fill:none;fill-rule:evenodd;stroke:#000000;stroke-width:2.0px;stroke-linecap:butt;stroke-linejoin:miter;stroke-opacity:1\"/>\n<path class=\"bond-0 atom-0 atom-1\" d=\"M 958.0,229.9 L 959.6,208.5\" style=\"fill:none;fill-rule:evenodd;stroke:#0000FF;stroke-width:2.0px;stroke-linecap:butt;stroke-linejoin:miter;stroke-opacity:1\"/>\n<path class=\"bond-1 atom-1 atom-2\" d=\"M 952.9,194.5 L 935.4,183.4\" style=\"fill:none;fill-rule:evenodd;stroke:#0000FF;stroke-width:2.0px;stroke-linecap:butt;stroke-linejoin:miter;stroke-opacity:1\"/>\n<path class=\"bond-1 atom-1 atom-2\" d=\"M 935.4,183.4 L 918.0,172.3\" style=\"fill:none;fill-rule:evenodd;stroke:#000000;stroke-width:2.0px;stroke-linecap:butt;stroke-linejoin:miter;stroke-opacity:1\"/>\n<path class=\"bond-2 atom-1 atom-7\" d=\"M 967.8,195.0 L 986.2,184.7\" style=\"fill:none;fill-rule:evenodd;stroke:#0000FF;stroke-width:2.0px;stroke-linecap:butt;stroke-linejoin:miter;stroke-opacity:1\"/>\n<path class=\"bond-2 atom-1 atom-7\" d=\"M 986.2,184.7 L 1004.6,174.3\" style=\"fill:none;fill-rule:evenodd;stroke:#000000;stroke-width:2.0px;stroke-linecap:butt;stroke-linejoin:miter;stroke-opacity:1\"/>\n<path class=\"bond-3 atom-2 atom-3\" d=\"M 918.0,172.3 L 917.9,124.2\" style=\"fill:none;fill-rule:evenodd;stroke:#000000;stroke-width:2.0px;stroke-linecap:butt;stroke-linejoin:miter;stroke-opacity:1\"/>\n<path class=\"bond-3 atom-2 atom-3\" d=\"M 928.7,165.1 L 928.7,131.4\" style=\"fill:none;fill-rule:evenodd;stroke:#000000;stroke-width:2.0px;stroke-linecap:butt;stroke-linejoin:miter;stroke-opacity:1\"/>\n<path class=\"bond-4 atom-3 atom-4\" d=\"M 917.9,124.2 L 935.6,113.3\" style=\"fill:none;fill-rule:evenodd;stroke:#000000;stroke-width:2.0px;stroke-linecap:butt;stroke-linejoin:miter;stroke-opacity:1\"/>\n<path class=\"bond-4 atom-3 atom-4\" d=\"M 935.6,113.3 L 953.2,102.5\" style=\"fill:none;fill-rule:evenodd;stroke:#0000FF;stroke-width:2.0px;stroke-linecap:butt;stroke-linejoin:miter;stroke-opacity:1\"/>\n<path class=\"bond-5 atom-4 atom-5\" d=\"M 960.4,88.6 L 959.9,67.4\" style=\"fill:none;fill-rule:evenodd;stroke:#0000FF;stroke-width:2.0px;stroke-linecap:butt;stroke-linejoin:miter;stroke-opacity:1\"/>\n<path class=\"bond-5 atom-4 atom-5\" d=\"M 959.9,67.4 L 959.3,46.1\" style=\"fill:none;fill-rule:evenodd;stroke:#000000;stroke-width:2.0px;stroke-linecap:butt;stroke-linejoin:miter;stroke-opacity:1\"/>\n<path class=\"bond-6 atom-4 atom-6\" d=\"M 968.2,102.1 L 986.4,112.4\" style=\"fill:none;fill-rule:evenodd;stroke:#0000FF;stroke-width:2.0px;stroke-linecap:butt;stroke-linejoin:miter;stroke-opacity:1\"/>\n<path class=\"bond-6 atom-4 atom-6\" d=\"M 986.4,112.4 L 1004.7,122.6\" style=\"fill:none;fill-rule:evenodd;stroke:#000000;stroke-width:2.0px;stroke-linecap:butt;stroke-linejoin:miter;stroke-opacity:1\"/>\n<path class=\"bond-7 atom-6 atom-7\" d=\"M 1004.7,122.6 L 1004.6,174.3\" style=\"fill:none;fill-rule:evenodd;stroke:#000000;stroke-width:2.0px;stroke-linecap:butt;stroke-linejoin:miter;stroke-opacity:1\"/>\n<path class=\"bond-8 atom-6 atom-14\" d=\"M 1004.7,122.6 L 1047.8,97.1\" style=\"fill:none;fill-rule:evenodd;stroke:#000000;stroke-width:2.0px;stroke-linecap:butt;stroke-linejoin:miter;stroke-opacity:1\"/>\n<path class=\"bond-8 atom-6 atom-14\" d=\"M 1016.7,128.0 L 1046.8,110.2\" style=\"fill:none;fill-rule:evenodd;stroke:#000000;stroke-width:2.0px;stroke-linecap:butt;stroke-linejoin:miter;stroke-opacity:1\"/>\n<path class=\"bond-9 atom-7 atom-8\" d=\"M 1004.6,174.3 L 1049.3,196.8\" style=\"fill:none;fill-rule:evenodd;stroke:#000000;stroke-width:2.0px;stroke-linecap:butt;stroke-linejoin:miter;stroke-opacity:1\"/>\n<path class=\"bond-9 atom-7 atom-8\" d=\"M 1016.1,168.1 L 1047.4,183.9\" style=\"fill:none;fill-rule:evenodd;stroke:#000000;stroke-width:2.0px;stroke-linecap:butt;stroke-linejoin:miter;stroke-opacity:1\"/>\n<path class=\"bond-10 atom-8 atom-9\" d=\"M 1049.3,196.8 L 1093.7,172.5\" style=\"fill:none;fill-rule:evenodd;stroke:#000000;stroke-width:2.0px;stroke-linecap:butt;stroke-linejoin:miter;stroke-opacity:1\"/>\n<path class=\"bond-11 atom-8 atom-15\" d=\"M 1049.3,196.8 L 1050.5,216.9\" style=\"fill:none;fill-rule:evenodd;stroke:#000000;stroke-width:2.0px;stroke-linecap:butt;stroke-linejoin:miter;stroke-opacity:1\"/>\n<path class=\"bond-11 atom-8 atom-15\" d=\"M 1050.5,216.9 L 1051.6,237.0\" style=\"fill:none;fill-rule:evenodd;stroke:#33CCCC;stroke-width:2.0px;stroke-linecap:butt;stroke-linejoin:miter;stroke-opacity:1\"/>\n<path class=\"bond-12 atom-9 atom-10\" d=\"M 1093.7,172.5 L 1112.0,181.1\" style=\"fill:none;fill-rule:evenodd;stroke:#000000;stroke-width:2.0px;stroke-linecap:butt;stroke-linejoin:miter;stroke-opacity:1\"/>\n<path class=\"bond-12 atom-9 atom-10\" d=\"M 1112.0,181.1 L 1130.3,189.7\" style=\"fill:none;fill-rule:evenodd;stroke:#0000FF;stroke-width:2.0px;stroke-linecap:butt;stroke-linejoin:miter;stroke-opacity:1\"/>\n<path class=\"bond-12 atom-9 atom-10\" d=\"M 1103.7,165.4 L 1116.5,171.4\" style=\"fill:none;fill-rule:evenodd;stroke:#000000;stroke-width:2.0px;stroke-linecap:butt;stroke-linejoin:miter;stroke-opacity:1\"/>\n<path class=\"bond-12 atom-9 atom-10\" d=\"M 1116.5,171.4 L 1129.4,177.4\" style=\"fill:none;fill-rule:evenodd;stroke:#0000FF;stroke-width:2.0px;stroke-linecap:butt;stroke-linejoin:miter;stroke-opacity:1\"/>\n<path class=\"bond-13 atom-9 atom-13\" d=\"M 1093.7,172.5 L 1092.6,121.0\" style=\"fill:none;fill-rule:evenodd;stroke:#000000;stroke-width:2.0px;stroke-linecap:butt;stroke-linejoin:miter;stroke-opacity:1\"/>\n<path class=\"bond-14 atom-10 atom-11\" d=\"M 1145.2,184.2 L 1157.9,168.9\" style=\"fill:none;fill-rule:evenodd;stroke:#0000FF;stroke-width:2.0px;stroke-linecap:butt;stroke-linejoin:miter;stroke-opacity:1\"/>\n<path class=\"bond-14 atom-10 atom-11\" d=\"M 1157.9,168.9 L 1170.6,153.6\" style=\"fill:none;fill-rule:evenodd;stroke:#CCCC00;stroke-width:2.0px;stroke-linecap:butt;stroke-linejoin:miter;stroke-opacity:1\"/>\n<path class=\"bond-15 atom-11 atom-12\" d=\"M 1170.6,138.3 L 1157.2,123.2\" style=\"fill:none;fill-rule:evenodd;stroke:#CCCC00;stroke-width:2.0px;stroke-linecap:butt;stroke-linejoin:miter;stroke-opacity:1\"/>\n<path class=\"bond-15 atom-11 atom-12\" d=\"M 1157.2,123.2 L 1143.7,108.0\" style=\"fill:none;fill-rule:evenodd;stroke:#0000FF;stroke-width:2.0px;stroke-linecap:butt;stroke-linejoin:miter;stroke-opacity:1\"/>\n<path class=\"bond-16 atom-12 atom-13\" d=\"M 1128.8,103.3 L 1110.7,112.2\" style=\"fill:none;fill-rule:evenodd;stroke:#0000FF;stroke-width:2.0px;stroke-linecap:butt;stroke-linejoin:miter;stroke-opacity:1\"/>\n<path class=\"bond-16 atom-12 atom-13\" d=\"M 1110.7,112.2 L 1092.6,121.0\" style=\"fill:none;fill-rule:evenodd;stroke:#000000;stroke-width:2.0px;stroke-linecap:butt;stroke-linejoin:miter;stroke-opacity:1\"/>\n<path class=\"bond-16 atom-12 atom-13\" d=\"M 1128.1,115.6 L 1115.4,121.8\" style=\"fill:none;fill-rule:evenodd;stroke:#0000FF;stroke-width:2.0px;stroke-linecap:butt;stroke-linejoin:miter;stroke-opacity:1\"/>\n<path class=\"bond-16 atom-12 atom-13\" d=\"M 1115.4,121.8 L 1102.8,128.0\" style=\"fill:none;fill-rule:evenodd;stroke:#000000;stroke-width:2.0px;stroke-linecap:butt;stroke-linejoin:miter;stroke-opacity:1\"/>\n<path class=\"bond-17 atom-13 atom-14\" d=\"M 1092.6,121.0 L 1047.8,97.1\" style=\"fill:none;fill-rule:evenodd;stroke:#000000;stroke-width:2.0px;stroke-linecap:butt;stroke-linejoin:miter;stroke-opacity:1\"/>\n<path class=\"atom-1\" d=\"M 957.0 191.6 L 962.0 199.7 Q 962.5 200.5, 963.3 201.9 Q 964.1 203.3, 964.1 203.4 L 964.1 191.6 L 966.1 191.6 L 966.1 206.8 L 964.0 206.8 L 958.7 198.0 Q 958.1 197.0, 957.4 195.8 Q 956.7 194.6, 956.6 194.3 L 956.6 206.8 L 954.6 206.8 L 954.6 191.6 L 957.0 191.6 \" fill=\"#0000FF\"/>\n<path class=\"atom-4\" d=\"M 957.3 90.3 L 962.3 98.4 Q 962.8 99.2, 963.6 100.6 Q 964.4 102.1, 964.4 102.2 L 964.4 90.3 L 966.4 90.3 L 966.4 105.6 L 964.4 105.6 L 959.0 96.8 Q 958.4 95.7, 957.7 94.5 Q 957.1 93.4, 956.9 93.0 L 956.9 105.6 L 954.9 105.6 L 954.9 90.3 L 957.3 90.3 \" fill=\"#0000FF\"/>\n<path class=\"atom-10\" d=\"M 1134.4 185.5 L 1139.4 193.6 Q 1139.9 194.4, 1140.7 195.8 Q 1141.5 197.3, 1141.5 197.4 L 1141.5 185.5 L 1143.5 185.5 L 1143.5 200.8 L 1141.5 200.8 L 1136.1 192.0 Q 1135.5 190.9, 1134.8 189.7 Q 1134.2 188.6, 1134.0 188.2 L 1134.0 200.8 L 1132.0 200.8 L 1132.0 185.5 L 1134.4 185.5 \" fill=\"#0000FF\"/>\n<path class=\"atom-11\" d=\"M 1172.9 150.9 Q 1173.0 151.0, 1173.8 151.3 Q 1174.5 151.6, 1175.2 151.8 Q 1176.0 151.9, 1176.8 151.9 Q 1178.2 151.9, 1179.1 151.3 Q 1179.9 150.5, 1179.9 149.3 Q 1179.9 148.5, 1179.5 148.0 Q 1179.1 147.4, 1178.4 147.2 Q 1177.8 146.9, 1176.7 146.6 Q 1175.4 146.2, 1174.6 145.8 Q 1173.8 145.4, 1173.2 144.6 Q 1172.6 143.7, 1172.6 142.4 Q 1172.6 140.5, 1173.9 139.3 Q 1175.2 138.1, 1177.8 138.1 Q 1179.6 138.1, 1181.6 138.9 L 1181.1 140.6 Q 1179.2 139.8, 1177.9 139.8 Q 1176.4 139.8, 1175.6 140.5 Q 1174.7 141.1, 1174.8 142.1 Q 1174.8 142.9, 1175.2 143.4 Q 1175.6 143.9, 1176.2 144.2 Q 1176.8 144.5, 1177.9 144.8 Q 1179.2 145.2, 1180.1 145.7 Q 1180.9 146.1, 1181.5 147.0 Q 1182.1 147.8, 1182.1 149.3 Q 1182.1 151.4, 1180.6 152.6 Q 1179.2 153.7, 1176.9 153.7 Q 1175.5 153.7, 1174.5 153.4 Q 1173.5 153.1, 1172.3 152.6 L 1172.9 150.9 \" fill=\"#CCCC00\"/>\n<path class=\"atom-12\" d=\"M 1132.9 92.0 L 1137.9 100.1 Q 1138.4 100.9, 1139.2 102.3 Q 1140.0 103.8, 1140.0 103.8 L 1140.0 92.0 L 1142.0 92.0 L 1142.0 107.2 L 1139.9 107.2 L 1134.6 98.4 Q 1134.0 97.4, 1133.3 96.2 Q 1132.6 95.0, 1132.5 94.7 L 1132.5 107.2 L 1130.5 107.2 L 1130.5 92.0 L 1132.9 92.0 \" fill=\"#0000FF\"/>\n<path class=\"atom-15\" d=\"M 1047.7 238.7 L 1056.7 238.7 L 1056.7 240.5 L 1049.7 240.5 L 1049.7 245.1 L 1055.9 245.1 L 1055.9 246.8 L 1049.7 246.8 L 1049.7 253.9 L 1047.7 253.9 L 1047.7 238.7 \" fill=\"#33CCCC\"/>\n<path class=\"bond-0 atom-0 atom-1\" d=\"M 233.5,548.3 L 233.0,527.7\" style=\"fill:none;fill-rule:evenodd;stroke:#000000;stroke-width:2.0px;stroke-linecap:butt;stroke-linejoin:miter;stroke-opacity:1\"/>\n<path class=\"bond-0 atom-0 atom-1\" d=\"M 233.0,527.7 L 232.5,507.1\" style=\"fill:none;fill-rule:evenodd;stroke:#0000FF;stroke-width:2.0px;stroke-linecap:butt;stroke-linejoin:miter;stroke-opacity:1\"/>\n<path class=\"bond-1 atom-1 atom-2\" d=\"M 239.8,493.5 L 257.5,483.3\" style=\"fill:none;fill-rule:evenodd;stroke:#0000FF;stroke-width:2.0px;stroke-linecap:butt;stroke-linejoin:miter;stroke-opacity:1\"/>\n<path class=\"bond-1 atom-1 atom-2\" d=\"M 257.5,483.3 L 275.2,473.0\" style=\"fill:none;fill-rule:evenodd;stroke:#000000;stroke-width:2.0px;stroke-linecap:butt;stroke-linejoin:miter;stroke-opacity:1\"/>\n<path class=\"bond-2 atom-1 atom-7\" d=\"M 224.8,493.8 L 206.8,484.0\" style=\"fill:none;fill-rule:evenodd;stroke:#0000FF;stroke-width:2.0px;stroke-linecap:butt;stroke-linejoin:miter;stroke-opacity:1\"/>\n<path class=\"bond-2 atom-1 atom-7\" d=\"M 206.8,484.0 L 188.7,474.2\" style=\"fill:none;fill-rule:evenodd;stroke:#000000;stroke-width:2.0px;stroke-linecap:butt;stroke-linejoin:miter;stroke-opacity:1\"/>\n<path class=\"bond-3 atom-2 atom-3\" d=\"M 275.2,473.0 L 275.7,425.1\" style=\"fill:none;fill-rule:evenodd;stroke:#000000;stroke-width:2.0px;stroke-linecap:butt;stroke-linejoin:miter;stroke-opacity:1\"/>\n<path class=\"bond-3 atom-2 atom-3\" d=\"M 264.5,465.7 L 264.9,432.2\" style=\"fill:none;fill-rule:evenodd;stroke:#000000;stroke-width:2.0px;stroke-linecap:butt;stroke-linejoin:miter;stroke-opacity:1\"/>\n<path class=\"bond-3 atom-2 atom-3\" d=\"M 286.0,466.0 L 286.4,432.4\" style=\"fill:none;fill-rule:evenodd;stroke:#000000;stroke-width:2.0px;stroke-linecap:butt;stroke-linejoin:miter;stroke-opacity:1\"/>\n<path class=\"bond-4 atom-3 atom-4\" d=\"M 275.7,425.1 L 258.3,414.6\" style=\"fill:none;fill-rule:evenodd;stroke:#000000;stroke-width:2.0px;stroke-linecap:butt;stroke-linejoin:miter;stroke-opacity:1\"/>\n<path class=\"bond-4 atom-3 atom-4\" d=\"M 258.3,414.6 L 240.8,404.1\" style=\"fill:none;fill-rule:evenodd;stroke:#0000FF;stroke-width:2.0px;stroke-linecap:butt;stroke-linejoin:miter;stroke-opacity:1\"/>\n<path class=\"bond-5 atom-4 atom-5\" d=\"M 233.6,390.4 L 234.0,368.9\" style=\"fill:none;fill-rule:evenodd;stroke:#0000FF;stroke-width:2.0px;stroke-linecap:butt;stroke-linejoin:miter;stroke-opacity:1\"/>\n<path class=\"bond-5 atom-4 atom-5\" d=\"M 234.0,368.9 L 234.4,347.3\" style=\"fill:none;fill-rule:evenodd;stroke:#000000;stroke-width:2.0px;stroke-linecap:butt;stroke-linejoin:miter;stroke-opacity:1\"/>\n<path class=\"bond-6 atom-4 atom-6\" d=\"M 225.9,403.4 L 207.6,412.7\" style=\"fill:none;fill-rule:evenodd;stroke:#0000FF;stroke-width:2.0px;stroke-linecap:butt;stroke-linejoin:miter;stroke-opacity:1\"/>\n<path class=\"bond-6 atom-4 atom-6\" d=\"M 207.6,412.7 L 189.3,421.9\" style=\"fill:none;fill-rule:evenodd;stroke:#000000;stroke-width:2.0px;stroke-linecap:butt;stroke-linejoin:miter;stroke-opacity:1\"/>\n<path class=\"bond-7 atom-6 atom-7\" d=\"M 189.3,421.9 L 188.7,474.2\" style=\"fill:none;fill-rule:evenodd;stroke:#000000;stroke-width:2.0px;stroke-linecap:butt;stroke-linejoin:miter;stroke-opacity:1\"/>\n<path class=\"bond-8 atom-6 atom-14\" d=\"M 189.3,421.9 L 146.7,396.2\" style=\"fill:none;fill-rule:evenodd;stroke:#000000;stroke-width:2.0px;stroke-linecap:butt;stroke-linejoin:miter;stroke-opacity:1\"/>\n<path class=\"bond-8 atom-6 atom-14\" d=\"M 177.3,427.2 L 147.5,409.3\" style=\"fill:none;fill-rule:evenodd;stroke:#000000;stroke-width:2.0px;stroke-linecap:butt;stroke-linejoin:miter;stroke-opacity:1\"/>\n<path class=\"bond-9 atom-7 atom-8\" d=\"M 188.7,474.2 L 144.7,496.8\" style=\"fill:none;fill-rule:evenodd;stroke:#000000;stroke-width:2.0px;stroke-linecap:butt;stroke-linejoin:miter;stroke-opacity:1\"/>\n<path class=\"bond-9 atom-7 atom-8\" d=\"M 177.2,468.0 L 146.4,483.8\" style=\"fill:none;fill-rule:evenodd;stroke:#000000;stroke-width:2.0px;stroke-linecap:butt;stroke-linejoin:miter;stroke-opacity:1\"/>\n<path class=\"bond-10 atom-8 atom-9\" d=\"M 144.7,496.8 L 100.7,472.0\" style=\"fill:none;fill-rule:evenodd;stroke:#000000;stroke-width:2.0px;stroke-linecap:butt;stroke-linejoin:miter;stroke-opacity:1\"/>\n<path class=\"bond-11 atom-8 atom-15\" d=\"M 144.7,496.8 L 143.7,516.3\" style=\"fill:none;fill-rule:evenodd;stroke:#000000;stroke-width:2.0px;stroke-linecap:butt;stroke-linejoin:miter;stroke-opacity:1\"/>\n<path class=\"bond-11 atom-8 atom-15\" d=\"M 143.7,516.3 L 142.7,535.8\" style=\"fill:none;fill-rule:evenodd;stroke:#33CCCC;stroke-width:2.0px;stroke-linecap:butt;stroke-linejoin:miter;stroke-opacity:1\"/>\n<path class=\"bond-12 atom-9 atom-10\" d=\"M 100.7,472.0 L 82.5,479.8\" style=\"fill:none;fill-rule:evenodd;stroke:#000000;stroke-width:2.0px;stroke-linecap:butt;stroke-linejoin:miter;stroke-opacity:1\"/>\n<path class=\"bond-12 atom-9 atom-10\" d=\"M 82.5,479.8 L 64.3,487.6\" style=\"fill:none;fill-rule:evenodd;stroke:#0000FF;stroke-width:2.0px;stroke-linecap:butt;stroke-linejoin:miter;stroke-opacity:1\"/>\n<path class=\"bond-12 atom-9 atom-10\" d=\"M 91.0,464.4 L 78.3,469.9\" style=\"fill:none;fill-rule:evenodd;stroke:#000000;stroke-width:2.0px;stroke-linecap:butt;stroke-linejoin:miter;stroke-opacity:1\"/>\n<path class=\"bond-12 atom-9 atom-10\" d=\"M 78.3,469.9 L 65.5,475.3\" style=\"fill:none;fill-rule:evenodd;stroke:#0000FF;stroke-width:2.0px;stroke-linecap:butt;stroke-linejoin:miter;stroke-opacity:1\"/>\n<path class=\"bond-13 atom-9 atom-13\" d=\"M 100.7,472.0 L 102.2,420.5\" style=\"fill:none;fill-rule:evenodd;stroke:#000000;stroke-width:2.0px;stroke-linecap:butt;stroke-linejoin:miter;stroke-opacity:1\"/>\n<path class=\"bond-14 atom-10 atom-11\" d=\"M 49.4,481.8 L 37.2,467.3\" style=\"fill:none;fill-rule:evenodd;stroke:#0000FF;stroke-width:2.0px;stroke-linecap:butt;stroke-linejoin:miter;stroke-opacity:1\"/>\n<path class=\"bond-14 atom-10 atom-11\" d=\"M 37.2,467.3 L 25.1,452.8\" style=\"fill:none;fill-rule:evenodd;stroke:#CCCC00;stroke-width:2.0px;stroke-linecap:butt;stroke-linejoin:miter;stroke-opacity:1\"/>\n<path class=\"bond-15 atom-11 atom-12\" d=\"M 25.1,437.7 L 38.1,423.3\" style=\"fill:none;fill-rule:evenodd;stroke:#CCCC00;stroke-width:2.0px;stroke-linecap:butt;stroke-linejoin:miter;stroke-opacity:1\"/>\n<path class=\"bond-15 atom-11 atom-12\" d=\"M 38.1,423.3 L 51.2,408.9\" style=\"fill:none;fill-rule:evenodd;stroke:#0000FF;stroke-width:2.0px;stroke-linecap:butt;stroke-linejoin:miter;stroke-opacity:1\"/>\n<path class=\"bond-16 atom-12 atom-13\" d=\"M 66.1,404.1 L 84.1,412.3\" style=\"fill:none;fill-rule:evenodd;stroke:#0000FF;stroke-width:2.0px;stroke-linecap:butt;stroke-linejoin:miter;stroke-opacity:1\"/>\n<path class=\"bond-16 atom-12 atom-13\" d=\"M 84.1,412.3 L 102.2,420.5\" style=\"fill:none;fill-rule:evenodd;stroke:#000000;stroke-width:2.0px;stroke-linecap:butt;stroke-linejoin:miter;stroke-opacity:1\"/>\n<path class=\"bond-16 atom-12 atom-13\" d=\"M 67.0,416.3 L 79.7,422.1\" style=\"fill:none;fill-rule:evenodd;stroke:#0000FF;stroke-width:2.0px;stroke-linecap:butt;stroke-linejoin:miter;stroke-opacity:1\"/>\n<path class=\"bond-16 atom-12 atom-13\" d=\"M 79.7,422.1 L 92.3,427.8\" style=\"fill:none;fill-rule:evenodd;stroke:#000000;stroke-width:2.0px;stroke-linecap:butt;stroke-linejoin:miter;stroke-opacity:1\"/>\n<path class=\"bond-17 atom-13 atom-14\" d=\"M 102.2,420.5 L 146.7,396.2\" style=\"fill:none;fill-rule:evenodd;stroke:#000000;stroke-width:2.0px;stroke-linecap:butt;stroke-linejoin:miter;stroke-opacity:1\"/>\n<path class=\"atom-1\" d=\"M 228.9 490.2 L 233.9 498.2 Q 234.4 499.0, 235.2 500.5 Q 236.0 501.9, 236.0 502.0 L 236.0 490.2 L 238.1 490.2 L 238.1 505.4 L 236.0 505.4 L 230.6 496.6 Q 230.0 495.6, 229.3 494.4 Q 228.7 493.2, 228.5 492.8 L 228.5 505.4 L 226.5 505.4 L 226.5 490.2 L 228.9 490.2 \" fill=\"#0000FF\"/>\n<path class=\"atom-4\" d=\"M 230.0 392.0 L 235.0 400.1 Q 235.5 400.9, 236.3 402.3 Q 237.1 403.8, 237.1 403.9 L 237.1 392.0 L 239.1 392.0 L 239.1 407.3 L 237.1 407.3 L 231.7 398.5 Q 231.1 397.4, 230.4 396.2 Q 229.8 395.1, 229.6 394.7 L 229.6 407.3 L 227.6 407.3 L 227.6 392.0 L 230.0 392.0 \" fill=\"#0000FF\"/>\n<path class=\"atom-10\" d=\"M 53.5 483.1 L 58.5 491.2 Q 59.0 492.0, 59.7 493.4 Q 60.5 494.9, 60.6 495.0 L 60.6 483.1 L 62.6 483.1 L 62.6 498.3 L 60.5 498.3 L 55.2 489.5 Q 54.5 488.5, 53.9 487.3 Q 53.2 486.1, 53.0 485.8 L 53.0 498.3 L 51.1 498.3 L 51.1 483.1 L 53.5 483.1 \" fill=\"#0000FF\"/>\n<path class=\"atom-11\" d=\"M 14.2 450.2 Q 14.4 450.3, 15.1 450.6 Q 15.8 450.9, 16.6 451.1 Q 17.4 451.2, 18.2 451.2 Q 19.6 451.2, 20.4 450.6 Q 21.3 449.8, 21.3 448.6 Q 21.3 447.8, 20.8 447.3 Q 20.4 446.7, 19.8 446.5 Q 19.1 446.2, 18.1 445.9 Q 16.7 445.5, 15.9 445.1 Q 15.1 444.7, 14.5 443.9 Q 14.0 443.0, 14.0 441.7 Q 14.0 439.8, 15.2 438.6 Q 16.6 437.4, 19.1 437.4 Q 20.9 437.4, 22.9 438.2 L 22.4 439.9 Q 20.6 439.1, 19.2 439.1 Q 17.7 439.1, 16.9 439.8 Q 16.1 440.4, 16.1 441.4 Q 16.1 442.2, 16.5 442.7 Q 16.9 443.2, 17.5 443.5 Q 18.2 443.8, 19.2 444.1 Q 20.6 444.5, 21.4 445.0 Q 22.2 445.4, 22.8 446.3 Q 23.4 447.1, 23.4 448.6 Q 23.4 450.7, 22.0 451.9 Q 20.6 453.0, 18.2 453.0 Q 16.9 453.0, 15.9 452.7 Q 14.8 452.4, 13.6 451.9 L 14.2 450.2 \" fill=\"#CCCC00\"/>\n<path class=\"atom-12\" d=\"M 55.3 393.1 L 60.2 401.2 Q 60.7 402.0, 61.5 403.4 Q 62.3 404.8, 62.4 404.9 L 62.4 393.1 L 64.4 393.1 L 64.4 408.3 L 62.3 408.3 L 57.0 399.5 Q 56.3 398.5, 55.7 397.3 Q 55.0 396.1, 54.8 395.8 L 54.8 408.3 L 52.8 408.3 L 52.8 393.1 L 55.3 393.1 \" fill=\"#0000FF\"/>\n<path class=\"atom-15\" d=\"M 137.7 537.4 L 146.7 537.4 L 146.7 539.2 L 139.7 539.2 L 139.7 543.8 L 145.9 543.8 L 145.9 545.6 L 139.7 545.6 L 139.7 552.7 L 137.7 552.7 L 137.7 537.4 \" fill=\"#33CCCC\"/>\n</svg>",
      "text/plain": [
       "<IPython.core.display.SVG object>"
      ]
     },
     "execution_count": 615,
     "metadata": {},
     "output_type": "execute_result"
    }
   ],
   "source": [
    "dm.to_image(mols=mols)"
   ]
  },
  {
   "cell_type": "code",
   "execution_count": 616,
   "metadata": {},
   "outputs": [
    {
     "name": "stdout",
     "output_type": "stream",
     "text": [
      "abs(dihedral_angle_0)=180.0, abs(dihedral_angle_1)=180.0\n",
      "deviation from the 180 or 0 degrees of (1) N-C=C-C = 0.0, and (2) N-C=C-C = 0.0\n"
     ]
    }
   ],
   "source": [
    "print(f\"abs(dihedral_angle_0)={calc_dihedraldeg(conf=conformer,hit_ats=hit_ats[0])}, abs(dihedral_angle_1)={calc_dihedraldeg(conf=conformer,hit_ats=hit_ats[1])}\")\n",
    "print(f\"deviation from the 180 or 0 degrees of (1) N-C=C-C = {calc_dihedraldeg_plane(conf=conformer,hit_ats=hit_ats[0])}, and (2) N-C=C-C = {calc_dihedraldeg_plane(conf=conformer,hit_ats=hit_ats[1])}\")"
   ]
  },
  {
   "cell_type": "markdown",
   "metadata": {},
   "source": [
    "# Calculate mean dihedral angle of all N-C=C-C"
   ]
  },
  {
   "cell_type": "code",
   "execution_count": null,
   "metadata": {},
   "outputs": [],
   "source": [
    "def get_dihedral_angle_mean(file=None,patt=Chem.MolFromSmiles('NC1=CC=CC=C1')):       \n",
    "    \"\"\"\n",
    "    This function will give the number of substructure found, and the mean abs(dihedral angle) \n",
    "    if no substructre then return dihedral angle = 1000\n",
    "    \"\"\"\n",
    "    if file is not None:\n",
    "        suppl = Chem.SDMolSupplier(file)\n",
    "        for mol in suppl:\n",
    "            hit_ats = list(mol.GetSubstructMatches(patt))\n",
    "            \n",
    "            conf = mol.GetConformer()\n",
    "            \n",
    "            dihedral=0\n",
    "\n",
    "            if len(hit_ats)>0:\n",
    "                for hit in hit_ats:\n",
    "                    \n",
    "                    dihedral+=calc_dihedraldeg(conf=conf,hit_ats=hit)\n",
    "\n",
    "                return len(hit_ats),round(dihedral/len(hit_ats),2)\n",
    "            else: \n",
    "                return len(hit_ats),1000\n",
    "        \n",
    "\n",
    "\n",
    "    else:\n",
    "        print(f\"give file address\")\n",
    "        return None\n",
    "            "
   ]
  },
  {
   "cell_type": "code",
   "execution_count": 617,
   "metadata": {},
   "outputs": [
    {
     "name": "stderr",
     "output_type": "stream",
     "text": [
      "[01:11:36] Warning: molecule is tagged as 3D, but all Z coords are zero\n"
     ]
    }
   ],
   "source": [
    "# results={\"files\":}\n",
    "numsub=[]\n",
    "dihedreal=[]\n",
    "for file in files:\n",
    "    # print(file)\n",
    "    num1,dih=get_dihedral_angle_mean(file=file)\n",
    "    numsub.append(num1)\n",
    "    dihedreal.append(dih)"
   ]
  },
  {
   "cell_type": "code",
   "execution_count": 618,
   "metadata": {},
   "outputs": [
    {
     "data": {
      "text/plain": [
       "(5, 5, 5)"
      ]
     },
     "execution_count": 618,
     "metadata": {},
     "output_type": "execute_result"
    }
   ],
   "source": [
    "len(files),len(numsub),len(dihedreal)"
   ]
  },
  {
   "cell_type": "code",
   "execution_count": 619,
   "metadata": {},
   "outputs": [
    {
     "data": {
      "text/html": [
       "<div>\n",
       "<style scoped>\n",
       "    .dataframe tbody tr th:only-of-type {\n",
       "        vertical-align: middle;\n",
       "    }\n",
       "\n",
       "    .dataframe tbody tr th {\n",
       "        vertical-align: top;\n",
       "    }\n",
       "\n",
       "    .dataframe thead th {\n",
       "        text-align: right;\n",
       "    }\n",
       "</style>\n",
       "<table border=\"1\" class=\"dataframe\">\n",
       "  <thead>\n",
       "    <tr style=\"text-align: right;\">\n",
       "      <th></th>\n",
       "      <th>file</th>\n",
       "      <th>num</th>\n",
       "      <th>dihedral</th>\n",
       "    </tr>\n",
       "  </thead>\n",
       "  <tbody>\n",
       "    <tr>\n",
       "      <th>0</th>\n",
       "      <td>./Data/sdf_files/acyclic_btz_2amines_red_F-fin...</td>\n",
       "      <td>2</td>\n",
       "      <td>177.29</td>\n",
       "    </tr>\n",
       "    <tr>\n",
       "      <th>1</th>\n",
       "      <td>./Data/sdf_files/btz.sdf</td>\n",
       "      <td>0</td>\n",
       "      <td>1000.00</td>\n",
       "    </tr>\n",
       "    <tr>\n",
       "      <th>2</th>\n",
       "      <td>./Data/sdf_files/BTZ6_F-final.sdf</td>\n",
       "      <td>2</td>\n",
       "      <td>174.14</td>\n",
       "    </tr>\n",
       "    <tr>\n",
       "      <th>3</th>\n",
       "      <td>./Data/sdf_files/double6_red_F-final.sdf</td>\n",
       "      <td>2</td>\n",
       "      <td>179.98</td>\n",
       "    </tr>\n",
       "    <tr>\n",
       "      <th>4</th>\n",
       "      <td>./Data/sdf_files/triple6_red_F-final.sdf</td>\n",
       "      <td>2</td>\n",
       "      <td>167.20</td>\n",
       "    </tr>\n",
       "  </tbody>\n",
       "</table>\n",
       "</div>"
      ],
      "text/plain": [
       "                                                file  num  dihedral\n",
       "0  ./Data/sdf_files/acyclic_btz_2amines_red_F-fin...    2    177.29\n",
       "1                           ./Data/sdf_files/btz.sdf    0   1000.00\n",
       "2                  ./Data/sdf_files/BTZ6_F-final.sdf    2    174.14\n",
       "3           ./Data/sdf_files/double6_red_F-final.sdf    2    179.98\n",
       "4           ./Data/sdf_files/triple6_red_F-final.sdf    2    167.20"
      ]
     },
     "execution_count": 619,
     "metadata": {},
     "output_type": "execute_result"
    }
   ],
   "source": [
    "results={\"file\":files,\n",
    "\"num\":numsub,\n",
    "\"dihedral\":dihedreal}\n",
    "df=pd.DataFrame(results)\n",
    "df"
   ]
  },
  {
   "cell_type": "markdown",
   "metadata": {},
   "source": [
    "# Calculate mean deviation of dihedral angle from the 0 or 180 degrees of all N-C=C-C"
   ]
  },
  {
   "cell_type": "code",
   "execution_count": 620,
   "metadata": {},
   "outputs": [],
   "source": [
    "def get_dihedral_angle_desc(file=None,patt=Chem.MolFromSmiles('NC1=CC=CC=C1')):       \n",
    "    \"\"\"\n",
    "    This function will give the number of substructure found, and the mean of min(dihedral angle,180-dihedral angle) of all N-C=C-C substructures \n",
    "    if no substructre then return dihedral angle = 1000\n",
    "    \"\"\"\n",
    "    if file is not None:\n",
    "        suppl = Chem.SDMolSupplier(file)\n",
    "        for mol in suppl:\n",
    "            hit_ats = list(mol.GetSubstructMatches(patt))\n",
    "            \n",
    "            conf = mol.GetConformer()\n",
    "            \n",
    "            dihedral=0\n",
    "\n",
    "            if len(hit_ats)>0:\n",
    "                for hit in hit_ats:\n",
    "                    \n",
    "                    dihedral+=calc_dihedraldeg_plane(conf=conf,hit_ats=hit)\n",
    "\n",
    "                return len(hit_ats),round(dihedral/len(hit_ats),2)\n",
    "            else: \n",
    "                return len(hit_ats),1000\n",
    "        \n",
    "\n",
    "\n",
    "    else:\n",
    "        print(f\"give file address\")\n",
    "        return None\n",
    "            "
   ]
  },
  {
   "cell_type": "code",
   "execution_count": 621,
   "metadata": {},
   "outputs": [
    {
     "name": "stderr",
     "output_type": "stream",
     "text": [
      "[01:11:37] Warning: molecule is tagged as 3D, but all Z coords are zero\n"
     ]
    }
   ],
   "source": [
    "# results={\"files\":}\n",
    "numsub=[]\n",
    "dihedreal=[]\n",
    "for file in files:\n",
    "    # print(file)\n",
    "    num1,dih=get_dihedral_angle_desc(file=file)\n",
    "    numsub.append(num1)\n",
    "    dihedreal.append(dih)"
   ]
  },
  {
   "cell_type": "code",
   "execution_count": 622,
   "metadata": {},
   "outputs": [
    {
     "name": "stdout",
     "output_type": "stream",
     "text": [
      "5 5 5\n"
     ]
    },
    {
     "data": {
      "text/html": [
       "<div>\n",
       "<style scoped>\n",
       "    .dataframe tbody tr th:only-of-type {\n",
       "        vertical-align: middle;\n",
       "    }\n",
       "\n",
       "    .dataframe tbody tr th {\n",
       "        vertical-align: top;\n",
       "    }\n",
       "\n",
       "    .dataframe thead th {\n",
       "        text-align: right;\n",
       "    }\n",
       "</style>\n",
       "<table border=\"1\" class=\"dataframe\">\n",
       "  <thead>\n",
       "    <tr style=\"text-align: right;\">\n",
       "      <th></th>\n",
       "      <th>file</th>\n",
       "      <th>num</th>\n",
       "      <th>dihedral_desc</th>\n",
       "    </tr>\n",
       "  </thead>\n",
       "  <tbody>\n",
       "    <tr>\n",
       "      <th>0</th>\n",
       "      <td>./Data/sdf_files/acyclic_btz_2amines_red_F-fin...</td>\n",
       "      <td>2</td>\n",
       "      <td>2.71</td>\n",
       "    </tr>\n",
       "    <tr>\n",
       "      <th>1</th>\n",
       "      <td>./Data/sdf_files/btz.sdf</td>\n",
       "      <td>0</td>\n",
       "      <td>1000.00</td>\n",
       "    </tr>\n",
       "    <tr>\n",
       "      <th>2</th>\n",
       "      <td>./Data/sdf_files/BTZ6_F-final.sdf</td>\n",
       "      <td>2</td>\n",
       "      <td>5.86</td>\n",
       "    </tr>\n",
       "    <tr>\n",
       "      <th>3</th>\n",
       "      <td>./Data/sdf_files/double6_red_F-final.sdf</td>\n",
       "      <td>2</td>\n",
       "      <td>0.02</td>\n",
       "    </tr>\n",
       "    <tr>\n",
       "      <th>4</th>\n",
       "      <td>./Data/sdf_files/triple6_red_F-final.sdf</td>\n",
       "      <td>2</td>\n",
       "      <td>12.80</td>\n",
       "    </tr>\n",
       "  </tbody>\n",
       "</table>\n",
       "</div>"
      ],
      "text/plain": [
       "                                                file  num  dihedral_desc\n",
       "0  ./Data/sdf_files/acyclic_btz_2amines_red_F-fin...    2           2.71\n",
       "1                           ./Data/sdf_files/btz.sdf    0        1000.00\n",
       "2                  ./Data/sdf_files/BTZ6_F-final.sdf    2           5.86\n",
       "3           ./Data/sdf_files/double6_red_F-final.sdf    2           0.02\n",
       "4           ./Data/sdf_files/triple6_red_F-final.sdf    2          12.80"
      ]
     },
     "execution_count": 622,
     "metadata": {},
     "output_type": "execute_result"
    }
   ],
   "source": [
    "print(len(files),len(numsub),len(dihedreal))\n",
    "results={\"file\":files,\n",
    "\"num\":numsub,\n",
    "\"dihedral_desc\":dihedreal}\n",
    "df=pd.DataFrame(results)\n",
    "df"
   ]
  }
 ],
 "metadata": {
  "kernelspec": {
   "display_name": "Python 3.7.12 ('myenv')",
   "language": "python",
   "name": "python3"
  },
  "language_info": {
   "codemirror_mode": {
    "name": "ipython",
    "version": 3
   },
   "file_extension": ".py",
   "mimetype": "text/x-python",
   "name": "python",
   "nbconvert_exporter": "python",
   "pygments_lexer": "ipython3",
   "version": "3.7.12"
  },
  "orig_nbformat": 4,
  "vscode": {
   "interpreter": {
    "hash": "00a5131b94e1651b60ec524aa15e233bc471fcc5f68e93d7def1029cb997c5c0"
   }
  }
 },
 "nbformat": 4,
 "nbformat_minor": 2
}
