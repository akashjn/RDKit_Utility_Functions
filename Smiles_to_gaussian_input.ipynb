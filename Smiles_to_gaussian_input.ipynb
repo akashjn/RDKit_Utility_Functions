{
 "cells": [
  {
   "cell_type": "markdown",
   "metadata": {},
   "source": [
    "# Generate gaussian input files (*.com) from the SMILES string of molecules"
   ]
  },
  {
   "cell_type": "code",
   "execution_count": 28,
   "metadata": {},
   "outputs": [],
   "source": [
    "import os\n",
    "import pandas as pd\n",
    "import numpy as np\n",
    "import rdkit.Chem as Chem\n",
    "from rdkit.Chem import AllChem"
   ]
  },
  {
   "cell_type": "code",
   "execution_count": 29,
   "metadata": {},
   "outputs": [
    {
     "data": {
      "text/html": [
       "<div>\n",
       "<style scoped>\n",
       "    .dataframe tbody tr th:only-of-type {\n",
       "        vertical-align: middle;\n",
       "    }\n",
       "\n",
       "    .dataframe tbody tr th {\n",
       "        vertical-align: top;\n",
       "    }\n",
       "\n",
       "    .dataframe thead th {\n",
       "        text-align: right;\n",
       "    }\n",
       "</style>\n",
       "<table border=\"1\" class=\"dataframe\">\n",
       "  <thead>\n",
       "    <tr style=\"text-align: right;\">\n",
       "      <th></th>\n",
       "      <th>SMILES</th>\n",
       "    </tr>\n",
       "  </thead>\n",
       "  <tbody>\n",
       "    <tr>\n",
       "      <th>0</th>\n",
       "      <td>Cc1c2c(cc3nsnc13)N(C)CCN2CCN(C)C</td>\n",
       "    </tr>\n",
       "    <tr>\n",
       "      <th>1</th>\n",
       "      <td>CCN1CCN(CCOC)c2c1cc1nsnc1c2C</td>\n",
       "    </tr>\n",
       "    <tr>\n",
       "      <th>2</th>\n",
       "      <td>CCNc1c2c(cc3nsnc13)N(C)CCN2C(C)C</td>\n",
       "    </tr>\n",
       "    <tr>\n",
       "      <th>3</th>\n",
       "      <td>CCCN1CCN(CC)c2cc3nsnc3c(NCC)c21</td>\n",
       "    </tr>\n",
       "    <tr>\n",
       "      <th>4</th>\n",
       "      <td>CCNc1c2c(cc3nsnc13)N(CC)CCN2C(C)C</td>\n",
       "    </tr>\n",
       "  </tbody>\n",
       "</table>\n",
       "</div>"
      ],
      "text/plain": [
       "                              SMILES\n",
       "0   Cc1c2c(cc3nsnc13)N(C)CCN2CCN(C)C\n",
       "1       CCN1CCN(CCOC)c2c1cc1nsnc1c2C\n",
       "2   CCNc1c2c(cc3nsnc13)N(C)CCN2C(C)C\n",
       "3    CCCN1CCN(CC)c2cc3nsnc3c(NCC)c21\n",
       "4  CCNc1c2c(cc3nsnc13)N(CC)CCN2C(C)C"
      ]
     },
     "execution_count": 29,
     "metadata": {},
     "output_type": "execute_result"
    }
   ],
   "source": [
    "df=pd.read_csv(r\"Data\\123Benzothiadiazole_smiles.csv\",usecols=[\"SMILES\"])\n",
    "df.head()"
   ]
  },
  {
   "cell_type": "code",
   "execution_count": 30,
   "metadata": {},
   "outputs": [],
   "source": [
    "def smiles2dotcom(list_of_smiles,method=\"wB97XD\",basis=\"CEP-31G\",Freq=\" \",sol=\" \",charge=0,mult=1,fileName=\"g16_input\"):\n",
    "    print(\"Saving files in: \", os.getcwd())\n",
    "    \"\"\" \n",
    "    This function will take a list of smiles (or a Pandas series of SMILES) and generate .com files (in current folder)\n",
    "    For single SMILES string: smiles_to_dotcom([\"CC\"])\n",
    "    \"\"\"\n",
    "    def get_atoms(mol):\n",
    "        atoms = [a.GetSymbol() for a in mol.GetAtoms()]\n",
    "        return atoms\n",
    "    \n",
    "    def generate_structure_from_smiles(smiles):\n",
    "        # Generate a 3D structure from smiles\n",
    "        mol = Chem.MolFromSmiles(smiles)\n",
    "        mol = Chem.AddHs(mol)\n",
    "        status = AllChem.EmbedMolecule(mol)\n",
    "        status = AllChem.MMFFOptimizeMolecule(mol) #UFFOptimizeMolecule(mol)\n",
    "        conformer = mol.GetConformer()\n",
    "        coordinates = conformer.GetPositions()\n",
    "        coordinates = np.array(coordinates)\n",
    "        atoms = get_atoms(mol)\n",
    "        return atoms, coordinates\n",
    "\n",
    "    def mkGaussianInputScriptNeutral(comName,method,basis, fragment,atoms,coordinates,charge,mult):\n",
    "        file = open(comName+\".com\", 'w')\n",
    "        file.write(\"\"\"%mem=16GB \\n\"\"\")\n",
    "        file.write(\"\"\"%Chk=\"\"\"+comName+\"\"\".chk \\n\"\"\")\n",
    "        file.write(\"\"\"#p \"\"\"+ method +\"\"\"/\"\"\" + basis+ \" opt \" + Freq + \"   \" + sol + \"\"\"\\n\\n\"\"\")\n",
    "        file.write(fragment + \" \" + str(charge) + \" \" + str(mult)+\"\\n\\n\")\n",
    "        file.write(str(charge)+\"\"\" \"\"\"+str(mult)+\"\"\"\\n\"\"\")\n",
    "        for i,atom in enumerate(atoms):\n",
    "            file.write(str(atom) + \"\\t\"+str(coordinates[i][0]) + \"\\t\\t\"+str(coordinates[i][1]) + \"\\t\\t\"+str(coordinates[i][2]) + \"\\n\")\n",
    "        file.write(\"\\n\")\n",
    "        file.close()   \n",
    "\n",
    "    for i,smilesName in enumerate(list_of_smiles):\n",
    "        atoms,coordinates=generate_structure_from_smiles(smilesName)\n",
    "        fileNameNeutral = fileName + \"-\" + method +\"-\"+str(i+1)\n",
    "        mkGaussianInputScriptNeutral(fileNameNeutral,method,basis,smilesName, atoms, coordinates,charge, mult)\n",
    "    "
   ]
  },
  {
   "cell_type": "markdown",
   "metadata": {},
   "source": [
    "## Input files for Neutral Molecules"
   ]
  },
  {
   "cell_type": "code",
   "execution_count": 31,
   "metadata": {},
   "outputs": [
    {
     "data": {
      "text/plain": [
       "['Cc1c2c(cc3nsnc13)N(C)CCN2CCN(C)C',\n",
       " 'CCN1CCN(CCOC)c2c1cc1nsnc1c2C',\n",
       " 'CCNc1c2c(cc3nsnc13)N(C)CCN2C(C)C',\n",
       " 'CCCN1CCN(CC)c2cc3nsnc3c(NCC)c21',\n",
       " 'CCNc1c2c(cc3nsnc13)N(CC)CCN2C(C)C']"
      ]
     },
     "execution_count": 31,
     "metadata": {},
     "output_type": "execute_result"
    }
   ],
   "source": [
    "list_of_smiles=df.SMILES.to_list()[:5]\n",
    "list_of_smiles"
   ]
  },
  {
   "cell_type": "code",
   "execution_count": 32,
   "metadata": {},
   "outputs": [
    {
     "name": "stdout",
     "output_type": "stream",
     "text": [
      "Saving files in:  c:\\Users\\jaina\\Box\\RDKit_Utility_Functions\n"
     ]
    }
   ],
   "source": [
    "smiles2dotcom(list_of_smiles,method=\"B3LYP\",basis=\"6-31+G(d,p)\",Freq=\" \",sol=\"scrf(cpcm,solvent=acetonitrile)\",charge=0,mult=1,fileName=\"smi2com_neutral\")"
   ]
  },
  {
   "cell_type": "markdown",
   "metadata": {},
   "source": [
    "## Input files for reduced Molecules"
   ]
  },
  {
   "cell_type": "code",
   "execution_count": 33,
   "metadata": {},
   "outputs": [
    {
     "name": "stdout",
     "output_type": "stream",
     "text": [
      "Saving files in:  c:\\Users\\jaina\\Box\\RDKit_Utility_Functions\n"
     ]
    }
   ],
   "source": [
    "smiles2dotcom(list_of_smiles,method=\"B3LYP\",basis=\"6-31+G(d,p)\",Freq=\" \",sol=\"scrf(cpcm,solvent=acetonitrile)\",charge=-1,mult=2,fileName=\"smi2com_reduced\")"
   ]
  },
  {
   "cell_type": "markdown",
   "metadata": {},
   "source": [
    "# Delete files from the folder\n",
    "- comment following lines if you want to keep the files"
   ]
  },
  {
   "cell_type": "code",
   "execution_count": 34,
   "metadata": {},
   "outputs": [],
   "source": [
    "for file in os.listdir(r'./'):\n",
    "    if file.endswith(\".com\"):\n",
    "        os.remove(file)"
   ]
  }
 ],
 "metadata": {
  "kernelspec": {
   "display_name": "Python 3.7.12 ('myenv')",
   "language": "python",
   "name": "python3"
  },
  "language_info": {
   "codemirror_mode": {
    "name": "ipython",
    "version": 3
   },
   "file_extension": ".py",
   "mimetype": "text/x-python",
   "name": "python",
   "nbconvert_exporter": "python",
   "pygments_lexer": "ipython3",
   "version": "3.7.12"
  },
  "orig_nbformat": 4,
  "vscode": {
   "interpreter": {
    "hash": "00a5131b94e1651b60ec524aa15e233bc471fcc5f68e93d7def1029cb997c5c0"
   }
  }
 },
 "nbformat": 4,
 "nbformat_minor": 2
}
